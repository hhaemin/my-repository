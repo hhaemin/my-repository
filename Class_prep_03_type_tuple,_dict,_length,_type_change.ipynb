{
  "cells": [
    {
      "cell_type": "markdown",
      "metadata": {
        "id": "view-in-github",
        "colab_type": "text"
      },
      "source": [
        "<a href=\"https://colab.research.google.com/github/hhaemin/my-repository/blob/main/Class_prep_03_type_tuple%2C_dict%2C_length%2C_type_change.ipynb\" target=\"_parent\"><img src=\"https://colab.research.google.com/assets/colab-badge.svg\" alt=\"Open In Colab\"/></a>"
      ]
    },
    {
      "cell_type": "markdown",
      "metadata": {
        "id": "kND5KT1FAJoE"
      },
      "source": [
        "### Tuple Function\n",
        "    list보다 같은 데이터를 가졌을 때 공간을 적게 사용"
      ]
    },
    {
      "cell_type": "code",
      "execution_count": 1,
      "metadata": {
        "ExecuteTime": {
          "end_time": "2021-01-13T06:38:13.987422Z",
          "start_time": "2021-01-13T06:38:13.974458Z"
        },
        "colab": {
          "base_uri": "https://localhost:8080/"
        },
        "id": "BQlcJ4z1AJoI",
        "outputId": "69b821b3-2bc4-452f-ea24-44c1729eaf12"
      },
      "outputs": [
        {
          "output_type": "execute_result",
          "data": {
            "text/plain": [
              "(tuple, tuple, (1, 2, 3), (4, 5, 6))"
            ]
          },
          "metadata": {},
          "execution_count": 1
        }
      ],
      "source": [
        "tp1 = 1, 2, 3\n",
        "tp2 = (4, 5, 6)\n",
        "type(tp1), type(tp2), tp1, tp2"
      ]
    },
    {
      "cell_type": "code",
      "execution_count": 2,
      "metadata": {
        "ExecuteTime": {
          "end_time": "2021-01-13T06:38:53.497181Z",
          "start_time": "2021-01-13T06:38:53.489174Z"
        },
        "colab": {
          "base_uri": "https://localhost:8080/"
        },
        "id": "mNvQrdfIAJoJ",
        "outputId": "282fa204-6cc7-4723-da92-98414f178ed4"
      },
      "outputs": [
        {
          "output_type": "execute_result",
          "data": {
            "text/plain": [
              "(10, 20)"
            ]
          },
          "metadata": {},
          "execution_count": 2
        }
      ],
      "source": [
        "a, b = 10, 20 # a=10, b=20\n",
        "a, b"
      ]
    },
    {
      "cell_type": "markdown",
      "metadata": {
        "id": "rZeYFb7TAJoK"
      },
      "source": [
        "#### tuple도 list와 마찬가지로 offset index 사용 가능"
      ]
    },
    {
      "cell_type": "code",
      "execution_count": 3,
      "metadata": {
        "ExecuteTime": {
          "end_time": "2021-01-13T06:39:47.800519Z",
          "start_time": "2021-01-13T06:39:47.795550Z"
        },
        "id": "O-sT1h1XAJoK",
        "outputId": "47bb6ae2-da26-4dfd-cd48-deffad13faa7",
        "colab": {
          "base_uri": "https://localhost:8080/"
        }
      },
      "outputs": [
        {
          "output_type": "execute_result",
          "data": {
            "text/plain": [
              "(1, (6, 5, 4))"
            ]
          },
          "metadata": {},
          "execution_count": 3
        }
      ],
      "source": [
        "tp1[0], tp2[::-1]"
      ]
    },
    {
      "cell_type": "markdown",
      "metadata": {
        "id": "cjtZOs6iAJoL"
      },
      "source": [
        "#### list와 tuple의 저장공간 비교"
      ]
    },
    {
      "cell_type": "code",
      "execution_count": 4,
      "metadata": {
        "ExecuteTime": {
          "end_time": "2021-01-13T06:40:48.131568Z",
          "start_time": "2021-01-13T06:40:48.121567Z"
        },
        "colab": {
          "base_uri": "https://localhost:8080/"
        },
        "id": "qUmwO8zJAJoL",
        "outputId": "e6e2ee02-0fe4-4125-f054-5bd86f4dcae6"
      },
      "outputs": [
        {
          "output_type": "stream",
          "name": "stdout",
          "text": [
            "96 80\n"
          ]
        }
      ],
      "source": [
        "import sys\n",
        "\n",
        "ls = [1,2,3]\n",
        "tp = (1,2,3)\n",
        "print(sys.getsizeof(ls), sys.getsizeof(tp))"
      ]
    },
    {
      "cell_type": "markdown",
      "metadata": {
        "id": "smpDUOpZAJoM"
      },
      "source": [
        "#### tuple의 활용 예시\n",
        "    절대로 변경이 되어선 안되는 데이터를 작성하는 경우"
      ]
    },
    {
      "cell_type": "code",
      "execution_count": 5,
      "metadata": {
        "ExecuteTime": {
          "end_time": "2021-01-14T00:31:55.536052Z",
          "start_time": "2021-01-14T00:31:55.529057Z"
        },
        "colab": {
          "base_uri": "https://localhost:8080/"
        },
        "id": "sFHkcyTWAJoM",
        "outputId": "5bacf4ce-6b32-46e9-e723-784a9bb2c0c3"
      },
      "outputs": [
        {
          "output_type": "stream",
          "name": "stdout",
          "text": [
            "<class 'tuple'> (0, 0.003)\n",
            "<class 'tuple'> (100000, (0, 0.003))\n",
            "300.0\n"
          ]
        }
      ],
      "source": [
        "# 카드 포인트 적립\n",
        "rate = (0, 0.003)\n",
        "print(type(rate), rate)\n",
        "card = 100_000  # 100,000\n",
        "point = (card, rate)\n",
        "print(type(point), point)\n",
        "\n",
        "point_combi = point[0] * point[1][1] # 100,000 * 0.003\n",
        "print(point_combi)\n"
      ]
    },
    {
      "cell_type": "markdown",
      "metadata": {
        "id": "vVOqXb6vAJoN"
      },
      "source": [
        "### Dictionary(dict)\n",
        "    순서가 없고 {키:값}으로 구성되어 있는 데이터 타입\n",
        "    llist 형태는 키값에 넣을 수 없다.\n",
        "    "
      ]
    },
    {
      "cell_type": "code",
      "execution_count": 11,
      "metadata": {
        "ExecuteTime": {
          "end_time": "2021-01-13T06:43:07.807143Z",
          "start_time": "2021-01-13T06:43:07.789191Z"
        },
        "colab": {
          "base_uri": "https://localhost:8080/"
        },
        "id": "JdYyuWhGAJoN",
        "outputId": "83836ca4-4f1a-464a-e183-d00e1f1eaf6e"
      },
      "outputs": [
        {
          "output_type": "execute_result",
          "data": {
            "text/plain": [
              "(dict, {'training data': 'data', 1: '첫번째', 'second': 2, 3: [3, 4, 5]})"
            ]
          },
          "metadata": {},
          "execution_count": 11
        }
      ],
      "source": [
        "dic = {\n",
        "    \"training data\":\"data\",\n",
        "    1 : \"첫번째\",\n",
        "    \"second\" : 2,\n",
        "    3 : [3, 4, 5]\n",
        "}\n",
        "type(dic), dic"
      ]
    },
    {
      "cell_type": "code",
      "execution_count": null,
      "metadata": {
        "ExecuteTime": {
          "end_time": "2021-01-14T00:33:49.562963Z",
          "start_time": "2021-01-14T00:33:49.555982Z"
        },
        "colab": {
          "base_uri": "https://localhost:8080/"
        },
        "id": "C5qPSd9iAJoO",
        "outputId": "e16a1542-4f3a-4dc4-dfb2-d4c2a3d2c402"
      },
      "outputs": [
        {
          "data": {
            "text/plain": [
              "{'DEEP:PHI': 'https://www.deepphi.ai/home',\n",
              " 'deepnoid': 'https://www.deepnoid.com/'}"
            ]
          },
          "execution_count": 6,
          "metadata": {},
          "output_type": "execute_result"
        }
      ],
      "source": [
        "# key와 value를 하나씩 직접 입력하여 작성하는 방법\n",
        "dic2 = {}\n",
        "dic2['DEEP:PHI'] = 'https://www.deepphi.ai/home'\n",
        "dic2['deepnoid'] = 'https://www.deepnoid.com/'\n",
        "dic2"
      ]
    },
    {
      "cell_type": "markdown",
      "metadata": {
        "id": "qVZOMVV4AJoO"
      },
      "source": [
        "#### dict 출력방법\n",
        "    dict[key값]"
      ]
    },
    {
      "cell_type": "code",
      "execution_count": 12,
      "metadata": {
        "ExecuteTime": {
          "end_time": "2021-01-13T06:43:21.046930Z",
          "start_time": "2021-01-13T06:43:21.030974Z"
        },
        "colab": {
          "base_uri": "https://localhost:8080/"
        },
        "id": "6tz2uIcHAJoO",
        "outputId": "ef47fed3-bf76-4d3f-cf73-1510d6255faa"
      },
      "outputs": [
        {
          "output_type": "execute_result",
          "data": {
            "text/plain": [
              "('첫번째', 2)"
            ]
          },
          "metadata": {},
          "execution_count": 12
        }
      ],
      "source": [
        "dic[1], dic[\"second\"]"
      ]
    },
    {
      "cell_type": "code",
      "execution_count": 13,
      "metadata": {
        "ExecuteTime": {
          "end_time": "2021-01-13T06:43:55.713495Z",
          "start_time": "2021-01-13T06:43:55.692551Z"
        },
        "colab": {
          "base_uri": "https://localhost:8080/",
          "height": 170
        },
        "id": "a6lb0u0XAJoP",
        "outputId": "42310fb1-0645-4c7d-bb8c-0649e2a9c184"
      },
      "outputs": [
        {
          "output_type": "error",
          "ename": "KeyError",
          "evalue": "ignored",
          "traceback": [
            "\u001b[0;31m---------------------------------------------------------------------------\u001b[0m",
            "\u001b[0;31mKeyError\u001b[0m                                  Traceback (most recent call last)",
            "\u001b[0;32m<ipython-input-13-81d649b08667>\u001b[0m in \u001b[0;36m<module>\u001b[0;34m\u001b[0m\n\u001b[0;32m----> 1\u001b[0;31m \u001b[0mdic\u001b[0m\u001b[0;34m[\u001b[0m\u001b[0;36m0\u001b[0m\u001b[0;34m]\u001b[0m \u001b[0;31m# 순서가 없는 데이터 타입이므로 index를 사용할 수 없음\u001b[0m\u001b[0;34m\u001b[0m\u001b[0;34m\u001b[0m\u001b[0m\n\u001b[0m",
            "\u001b[0;31mKeyError\u001b[0m: 0"
          ]
        }
      ],
      "source": [
        "dic[0] # 순서가 없는 데이터 타입이므로 index를 사용할 수 없음"
      ]
    },
    {
      "cell_type": "markdown",
      "metadata": {
        "id": "h-1XJqHKAJoP"
      },
      "source": [
        "#### dict형 데이터 타입 key, value값 확인\n",
        "    keys() : key값을 확인\n",
        "    values() : value값을 확인\n",
        "        각각 리스트 타입으로 출력\n",
        "    items() : key, value의 쌍으로 출력\n",
        "        쌍을 이루고 수정이 불가능하므로 튜플 타입으로 출력\n",
        "        \n",
        "    ※ 주의 : 출력이 각각 list, tuple 타입으로 나타나지만 본래 데이터는 dict 타입이므로 순서가 없음\n",
        "            즉, offset index를 사용할 수 없다!"
      ]
    },
    {
      "cell_type": "code",
      "execution_count": 14,
      "metadata": {
        "ExecuteTime": {
          "end_time": "2021-01-13T06:46:00.176817Z",
          "start_time": "2021-01-13T06:46:00.164849Z"
        },
        "colab": {
          "base_uri": "https://localhost:8080/"
        },
        "id": "m3eF6K7BAJoP",
        "outputId": "dbebb6f4-ccc8-4337-cb08-38b677a3a195"
      },
      "outputs": [
        {
          "output_type": "execute_result",
          "data": {
            "text/plain": [
              "(dict_keys(['training data', 1, 'second', 3]),\n",
              " dict_values(['data', '첫번째', 2, [3, 4, 5]]),\n",
              " dict_items([('training data', 'data'), (1, '첫번째'), ('second', 2), (3, [3, 4, 5])]))"
            ]
          },
          "metadata": {},
          "execution_count": 14
        }
      ],
      "source": [
        "dic.keys(), dic.values(), dic.items()"
      ]
    },
    {
      "cell_type": "code",
      "execution_count": 15,
      "metadata": {
        "ExecuteTime": {
          "end_time": "2021-01-13T06:47:16.403443Z",
          "start_time": "2021-01-13T06:47:16.395435Z"
        },
        "colab": {
          "base_uri": "https://localhost:8080/"
        },
        "id": "GtakXQMKAJoQ",
        "outputId": "1f1a4c90-89d7-4ef2-f532-0eb8fc557749"
      },
      "outputs": [
        {
          "output_type": "stream",
          "name": "stdout",
          "text": [
            "training data\n",
            "1\n",
            "second\n",
            "3\n"
          ]
        }
      ],
      "source": [
        "for key in dic.keys():\n",
        "  print(key)"
      ]
    },
    {
      "cell_type": "code",
      "execution_count": 16,
      "metadata": {
        "ExecuteTime": {
          "end_time": "2021-01-13T06:47:36.222210Z",
          "start_time": "2021-01-13T06:47:36.213233Z"
        },
        "colab": {
          "base_uri": "https://localhost:8080/"
        },
        "id": "nkAHOtZeAJoQ",
        "outputId": "7b79866a-12fa-4612-a56f-4348bc3453d2"
      },
      "outputs": [
        {
          "output_type": "stream",
          "name": "stdout",
          "text": [
            "('training data', 'data')\n",
            "(1, '첫번째')\n",
            "('second', 2)\n",
            "(3, [3, 4, 5])\n"
          ]
        }
      ],
      "source": [
        "for items in dic.items():\n",
        "  print(items)"
      ]
    },
    {
      "cell_type": "markdown",
      "metadata": {
        "id": "bYNGuylsAJoQ"
      },
      "source": [
        "### length 구하기\n",
        "    문자열, list, tuple, dict 타입의 경우 데이터의 길이(혹은 갯수)를 셀 수 있음\n",
        "```python\n",
        "len(구하고자 하는 데이터타입)\n",
        "```"
      ]
    },
    {
      "cell_type": "code",
      "execution_count": 17,
      "metadata": {
        "ExecuteTime": {
          "end_time": "2021-01-14T01:50:36.157047Z",
          "start_time": "2021-01-14T01:50:36.150066Z"
        },
        "colab": {
          "base_uri": "https://localhost:8080/"
        },
        "id": "Vx6A5MDCAJoR",
        "outputId": "0ff79d37-3148-4721-e9cd-d23955d079c4"
      },
      "outputs": [
        {
          "output_type": "execute_result",
          "data": {
            "text/plain": [
              "12"
            ]
          },
          "metadata": {},
          "execution_count": 17
        }
      ],
      "source": [
        "# stirng type\n",
        "text = \"hello python\"\n",
        "len(text) # 공백을 포함한 길이"
      ]
    },
    {
      "cell_type": "code",
      "execution_count": null,
      "metadata": {
        "ExecuteTime": {
          "end_time": "2021-01-14T01:50:50.044042Z",
          "start_time": "2021-01-14T01:50:50.027063Z"
        },
        "colab": {
          "base_uri": "https://localhost:8080/"
        },
        "id": "SckC1zz-AJoR",
        "outputId": "0df50d01-e9e0-46dd-a09e-2c59271ceed2"
      },
      "outputs": [
        {
          "data": {
            "text/plain": [
              "5"
            ]
          },
          "execution_count": 13,
          "metadata": {},
          "output_type": "execute_result"
        }
      ],
      "source": [
        "# list type\n",
        "ls = [1, 2, 3, 4, 5]\n",
        "len(ls)"
      ]
    },
    {
      "cell_type": "code",
      "execution_count": null,
      "metadata": {
        "ExecuteTime": {
          "end_time": "2021-01-14T01:51:14.077615Z",
          "start_time": "2021-01-14T01:51:14.058673Z"
        },
        "colab": {
          "base_uri": "https://localhost:8080/"
        },
        "id": "e4hgq40VAJoR",
        "outputId": "c869a81d-10d7-4639-f999-b23eb76341da"
      },
      "outputs": [
        {
          "data": {
            "text/plain": [
              "4"
            ]
          },
          "execution_count": 14,
          "metadata": {},
          "output_type": "execute_result"
        }
      ],
      "source": [
        "# tuple type\n",
        "tp = (10, 20, 30, 40)\n",
        "len(tp)"
      ]
    },
    {
      "cell_type": "code",
      "execution_count": 22,
      "metadata": {
        "ExecuteTime": {
          "end_time": "2021-01-14T01:51:51.438037Z",
          "start_time": "2021-01-14T01:51:51.419908Z"
        },
        "colab": {
          "base_uri": "https://localhost:8080/"
        },
        "id": "oROapYFhAJoR",
        "outputId": "6f434b72-1e48-4d3a-c381-fd1a63502a35"
      },
      "outputs": [
        {
          "output_type": "execute_result",
          "data": {
            "text/plain": [
              "3"
            ]
          },
          "metadata": {},
          "execution_count": 22
        }
      ],
      "source": [
        "# dict type도 가능할까?\n",
        "dic = { 0:\"kim\", 1:\"python\", 2:\"data\"}\n",
        "len(dic)"
      ]
    },
    {
      "cell_type": "code",
      "execution_count": 18,
      "metadata": {
        "ExecuteTime": {
          "end_time": "2021-01-14T01:52:23.160517Z",
          "start_time": "2021-01-14T01:52:22.990481Z"
        },
        "colab": {
          "base_uri": "https://localhost:8080/",
          "height": 205
        },
        "id": "iEy2RbeAAJoS",
        "outputId": "e1f32796-f962-4771-9269-05e194cb22ce"
      },
      "outputs": [
        {
          "output_type": "error",
          "ename": "TypeError",
          "evalue": "ignored",
          "traceback": [
            "\u001b[0;31m---------------------------------------------------------------------------\u001b[0m",
            "\u001b[0;31mTypeError\u001b[0m                                 Traceback (most recent call last)",
            "\u001b[0;32m<ipython-input-18-e5edebdb1532>\u001b[0m in \u001b[0;36m<module>\u001b[0;34m\u001b[0m\n\u001b[1;32m      1\u001b[0m \u001b[0;31m# 숫자형은 안돼요!\u001b[0m\u001b[0;34m\u001b[0m\u001b[0;34m\u001b[0m\u001b[0;34m\u001b[0m\u001b[0m\n\u001b[1;32m      2\u001b[0m \u001b[0mnb\u001b[0m \u001b[0;34m=\u001b[0m \u001b[0;36m123\u001b[0m\u001b[0;34m\u001b[0m\u001b[0;34m\u001b[0m\u001b[0m\n\u001b[0;32m----> 3\u001b[0;31m \u001b[0mlen\u001b[0m\u001b[0;34m(\u001b[0m\u001b[0mnb\u001b[0m\u001b[0;34m)\u001b[0m\u001b[0;34m\u001b[0m\u001b[0;34m\u001b[0m\u001b[0m\n\u001b[0m",
            "\u001b[0;31mTypeError\u001b[0m: object of type 'int' has no len()"
          ]
        }
      ],
      "source": [
        "# 숫자형은 안돼요!\n",
        "nb = 123\n",
        "len(nb)"
      ]
    },
    {
      "cell_type": "markdown",
      "metadata": {
        "id": "J1NxGoVYAJoS"
      },
      "source": [
        "### Type change\n",
        "    - 데이터 타입을 변환하는 방법\n",
        "    - 형태의 종류\n",
        "        int, float, bool, str, list, tuple, dict"
      ]
    },
    {
      "cell_type": "code",
      "execution_count": 23,
      "metadata": {
        "ExecuteTime": {
          "end_time": "2021-01-13T06:56:29.083943Z",
          "start_time": "2021-01-13T06:56:29.067986Z"
        },
        "colab": {
          "base_uri": "https://localhost:8080/"
        },
        "id": "wGH56GetAJoS",
        "outputId": "d57ba1f7-dcd5-47e5-ae4a-bf79e0d9a659"
      },
      "outputs": [
        {
          "output_type": "execute_result",
          "data": {
            "text/plain": [
              "dict_values"
            ]
          },
          "metadata": {},
          "execution_count": 23
        }
      ],
      "source": [
        "type(dic.values())"
      ]
    },
    {
      "cell_type": "code",
      "execution_count": 24,
      "metadata": {
        "ExecuteTime": {
          "end_time": "2021-01-13T06:56:41.846256Z",
          "start_time": "2021-01-13T06:56:41.837273Z"
        },
        "colab": {
          "base_uri": "https://localhost:8080/"
        },
        "id": "zWRWT2IuAJoS",
        "outputId": "4a73faf6-66b1-4cdb-89c5-6060cdf4f8ae"
      },
      "outputs": [
        {
          "output_type": "execute_result",
          "data": {
            "text/plain": [
              "list"
            ]
          },
          "metadata": {},
          "execution_count": 24
        }
      ],
      "source": [
        "type(list(dic.values()))"
      ]
    },
    {
      "cell_type": "code",
      "source": [
        "list(dic.values())"
      ],
      "metadata": {
        "colab": {
          "base_uri": "https://localhost:8080/"
        },
        "id": "setyM0i2wE4Q",
        "outputId": "86e49f0b-7528-42c3-e337-1b9df66ecfbb"
      },
      "execution_count": 25,
      "outputs": [
        {
          "output_type": "execute_result",
          "data": {
            "text/plain": [
              "['kim', 'python', 'data']"
            ]
          },
          "metadata": {},
          "execution_count": 25
        }
      ]
    },
    {
      "cell_type": "code",
      "execution_count": 26,
      "metadata": {
        "ExecuteTime": {
          "end_time": "2021-01-13T06:57:03.380246Z",
          "start_time": "2021-01-13T06:57:03.372295Z"
        },
        "colab": {
          "base_uri": "https://localhost:8080/",
          "height": 36
        },
        "id": "J4z83BX0AJoS",
        "outputId": "0cb4d07d-3b4d-49cb-d34e-76d443ff606d"
      },
      "outputs": [
        {
          "output_type": "execute_result",
          "data": {
            "text/plain": [
              "'kim'"
            ],
            "application/vnd.google.colaboratory.intrinsic+json": {
              "type": "string"
            }
          },
          "metadata": {},
          "execution_count": 26
        }
      ],
      "source": [
        "dic_list = list(dic.values())\n",
        "dic_list[0]"
      ]
    },
    {
      "cell_type": "code",
      "execution_count": 27,
      "metadata": {
        "colab": {
          "base_uri": "https://localhost:8080/"
        },
        "id": "xgS_6BUNBTs4",
        "outputId": "8e01189f-4307-484f-bef4-81c663f7852c"
      },
      "outputs": [
        {
          "output_type": "stream",
          "name": "stdout",
          "text": [
            "<class 'int'> 1\n",
            "<class 'float'> 1.0\n",
            "<class 'str'> 1.0\n"
          ]
        }
      ],
      "source": [
        "a=1 # int\n",
        "print(type(a),a)\n",
        "b=float(a)\n",
        "print(type(b),b)\n",
        "c=str(b)\n",
        "print(type(c),c)"
      ]
    },
    {
      "cell_type": "markdown",
      "metadata": {
        "id": "2ELK-nhMAJoS"
      },
      "source": [
        "#### list -> dict로 만들기\n",
        "    zip : 같은 index끼리 묶어주는 함수"
      ]
    },
    {
      "cell_type": "code",
      "execution_count": 29,
      "metadata": {
        "ExecuteTime": {
          "end_time": "2021-01-13T06:59:42.153326Z",
          "start_time": "2021-01-13T06:59:42.137340Z"
        },
        "id": "Dhc9q6TzAJoT"
      },
      "outputs": [],
      "source": [
        "classes = ['Supervised learning','Unsupervised learning', 'Reinforcement learning']\n",
        "subject = ['classification', 'clustering', 'game AI']\n",
        "dic = dict(zip(classes, subject))"
      ]
    },
    {
      "cell_type": "code",
      "execution_count": 30,
      "metadata": {
        "ExecuteTime": {
          "end_time": "2021-01-13T06:59:56.226860Z",
          "start_time": "2021-01-13T06:59:56.214897Z"
        },
        "colab": {
          "base_uri": "https://localhost:8080/"
        },
        "id": "I_ilgOZdAJoT",
        "outputId": "fb58f49b-c4bc-4d11-d2ab-ed60438d5c7a",
        "scrolled": true
      },
      "outputs": [
        {
          "output_type": "execute_result",
          "data": {
            "text/plain": [
              "dict"
            ]
          },
          "metadata": {},
          "execution_count": 30
        }
      ],
      "source": [
        "dict(zip(classes,subject))\n",
        "type(dic)"
      ]
    },
    {
      "cell_type": "code",
      "execution_count": 31,
      "metadata": {
        "colab": {
          "base_uri": "https://localhost:8080/"
        },
        "id": "CsZqSJTmlZSP",
        "outputId": "7ca55453-6f9b-494c-f9d2-a3d7c13745b0"
      },
      "outputs": [
        {
          "output_type": "execute_result",
          "data": {
            "text/plain": [
              "{'Supervised learning': 'classification',\n",
              " 'Unsupervised learning': 'clustering',\n",
              " 'Reinforcement learning': 'game AI'}"
            ]
          },
          "metadata": {},
          "execution_count": 31
        }
      ],
      "source": [
        "dic"
      ]
    },
    {
      "cell_type": "code",
      "execution_count": null,
      "metadata": {
        "id": "YJfBn_yfBLD4"
      },
      "outputs": [],
      "source": []
    }
  ],
  "metadata": {
    "colab": {
      "collapsed_sections": [],
      "provenance": [],
      "include_colab_link": true
    },
    "hide_input": false,
    "kernelspec": {
      "display_name": "Python 3 (ipykernel)",
      "language": "python",
      "name": "python3"
    },
    "language_info": {
      "codemirror_mode": {
        "name": "ipython",
        "version": 3
      },
      "file_extension": ".py",
      "mimetype": "text/x-python",
      "name": "python",
      "nbconvert_exporter": "python",
      "pygments_lexer": "ipython3",
      "version": "3.8.5"
    },
    "toc": {
      "base_numbering": 1,
      "nav_menu": {},
      "number_sections": true,
      "sideBar": true,
      "skip_h1_title": false,
      "title_cell": "Table of Contents",
      "title_sidebar": "Contents",
      "toc_cell": false,
      "toc_position": {},
      "toc_section_display": true,
      "toc_window_display": false
    },
    "varInspector": {
      "cols": {
        "lenName": 16,
        "lenType": 16,
        "lenVar": 40
      },
      "kernels_config": {
        "python": {
          "delete_cmd_postfix": "",
          "delete_cmd_prefix": "del ",
          "library": "var_list.py",
          "varRefreshCmd": "print(var_dic_list())"
        },
        "r": {
          "delete_cmd_postfix": ") ",
          "delete_cmd_prefix": "rm(",
          "library": "var_list.r",
          "varRefreshCmd": "cat(var_dic_list()) "
        }
      },
      "types_to_exclude": [
        "module",
        "function",
        "builtin_function_or_method",
        "instance",
        "_Feature"
      ],
      "window_display": false
    }
  },
  "nbformat": 4,
  "nbformat_minor": 0
}