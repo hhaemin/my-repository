{
  "cells": [
    {
      "cell_type": "markdown",
      "metadata": {
        "id": "view-in-github",
        "colab_type": "text"
      },
      "source": [
        "<a href=\"https://colab.research.google.com/github/hhaemin/my-repository/blob/main/Class_prep_06_%E1%84%8B%E1%85%B5%E1%86%B8%E1%84%85%E1%85%A7%E1%86%A8%E1%84%92%E1%85%A1%E1%86%B7%E1%84%89%E1%85%AE%2C_random%E1%84%92%E1%85%A1%E1%86%B7%E1%84%89%E1%85%AE%2C_Quiz.ipynb\" target=\"_parent\"><img src=\"https://colab.research.google.com/assets/colab-badge.svg\" alt=\"Open In Colab\"/></a>"
      ]
    },
    {
      "cell_type": "markdown",
      "metadata": {
        "id": "FtNjxuzrB7-A"
      },
      "source": [
        "#### 입력함수"
      ]
    },
    {
      "cell_type": "code",
      "execution_count": 1,
      "metadata": {
        "ExecuteTime": {
          "end_time": "2021-01-13T07:52:30.893622Z",
          "start_time": "2021-01-13T07:52:28.216480Z"
        },
        "id": "5UHS_sspB7-F",
        "outputId": "3857e578-f0fe-422e-bc6c-5aa5aaaaecd7",
        "colab": {
          "base_uri": "https://localhost:8080/",
          "height": 54
        }
      },
      "outputs": [
        {
          "name": "stdout",
          "output_type": "stream",
          "text": [
            "문장을 입력하세요: 안녕하세요\n"
          ]
        },
        {
          "output_type": "execute_result",
          "data": {
            "text/plain": [
              "'안녕하세요'"
            ],
            "application/vnd.google.colaboratory.intrinsic+json": {
              "type": "string"
            }
          },
          "metadata": {},
          "execution_count": 1
        }
      ],
      "source": [
        "text = input(\"문장을 입력하세요: \")\n",
        "text"
      ]
    },
    {
      "cell_type": "markdown",
      "metadata": {
        "id": "DCfHOv8bB7-H"
      },
      "source": [
        "#### random 모듈\n",
        "    import random : random이라는 이름의 모듈 안의 함수들을 사용하겠다고 선언"
      ]
    },
    {
      "cell_type": "code",
      "execution_count": 2,
      "metadata": {
        "ExecuteTime": {
          "end_time": "2021-01-13T08:01:29.161740Z",
          "start_time": "2021-01-13T08:01:29.144794Z"
        },
        "id": "SXtscabaB7-I",
        "outputId": "d51a8905-072e-4772-cbd1-61ad24e320b3",
        "colab": {
          "base_uri": "https://localhost:8080/"
        }
      },
      "outputs": [
        {
          "output_type": "execute_result",
          "data": {
            "text/plain": [
              "4"
            ]
          },
          "metadata": {},
          "execution_count": 2
        }
      ],
      "source": [
        "import random\n",
        "random.randint(0,10)"
      ]
    },
    {
      "cell_type": "code",
      "execution_count": 3,
      "metadata": {
        "ExecuteTime": {
          "end_time": "2021-01-13T08:06:26.666689Z",
          "start_time": "2021-01-13T08:06:08.752772Z"
        },
        "colab": {
          "base_uri": "https://localhost:8080/"
        },
        "id": "0KstXr49B7-J",
        "outputId": "d790b6db-89a0-450f-fdad-4c76f518406c"
      },
      "outputs": [
        {
          "output_type": "stream",
          "name": "stdout",
          "text": [
            "질문을 입력하세요: what are you doing?\n",
            "홀리몰리과카몰리\n"
          ]
        }
      ],
      "source": [
        "brand_new_words = [\n",
        "    \"홀리몰리과카몰리\",\n",
        "    \"전래전래전래동화\",\n",
        "    \"개펀리펀\",\n",
        "    \"킹받뜨라쉬\",\n",
        "    \"아차찹쌀떡~\"\n",
        "]\n",
        "\n",
        "import random\n",
        "idx = random.randint(0, len(brand_new_words) - 1)\n",
        "\n",
        "input(\"질문을 입력하세요: \")\n",
        "print(brand_new_words[idx])"
      ]
    },
    {
      "cell_type": "code",
      "execution_count": 4,
      "metadata": {
        "ExecuteTime": {
          "end_time": "2021-01-14T01:20:32.313051Z",
          "start_time": "2021-01-14T01:20:32.292081Z"
        },
        "id": "EHnXECWGB7-K",
        "outputId": "1ed3d54b-31a3-4051-cd39-722da5cc010e",
        "colab": {
          "base_uri": "https://localhost:8080/",
          "height": 36
        }
      },
      "outputs": [
        {
          "output_type": "execute_result",
          "data": {
            "text/plain": [
              "'1번'"
            ],
            "application/vnd.google.colaboratory.intrinsic+json": {
              "type": "string"
            }
          },
          "metadata": {},
          "execution_count": 4
        }
      ],
      "source": [
        "import random\n",
        "ls = ['1번', '2번', '3번', '4번', '5번']\n",
        "\n",
        "random.choice(ls)"
      ]
    },
    {
      "cell_type": "markdown",
      "metadata": {
        "id": "Oa2ZVe1oB7-K"
      },
      "source": [
        "#### format 함수\n",
        "    변수의 데이터를 문자형으로 변환하여 출력할 수 있는 방법"
      ]
    },
    {
      "cell_type": "code",
      "execution_count": null,
      "metadata": {
        "ExecuteTime": {
          "end_time": "2021-01-14T01:22:59.228884Z",
          "start_time": "2021-01-14T01:22:59.222900Z"
        },
        "colab": {
          "base_uri": "https://localhost:8080/"
        },
        "id": "LqhNhUKxB7-L",
        "outputId": "6591435f-6fbf-46ff-adf4-1831c266e1e5"
      },
      "outputs": [
        {
          "name": "stdout",
          "output_type": "stream",
          "text": [
            "인출 금액은 30000원 입니다. 현재 잔액은 70000원 입니다.\n",
            "인출 금액은 30000원 입니다. 현재 잔액은 70000원 입니다.\n",
            "인출 금액은 30000원 입니다. 현재 잔액은 70000원 입니다.\n"
          ]
        }
      ],
      "source": [
        "account = 100_000\n",
        "draw = 30_000\n",
        "account -= draw\n",
        "\n",
        "print(\"인출 금액은 {}원 입니다. 현재 잔액은 {}원 입니다.\".format(draw, account)) # 파이썬 3.6이상 버전에서는 f string으로 업그레이드\n",
        "\n",
        "print(\"인출 금액은 %s원 입니다. 현재 잔액은 %s원 입니다.\" %(draw, account))\n",
        "\n",
        "print(f'인출 금액은 {draw}원 입니다. 현재 잔액은 {account}원 입니다.')  # f string 이라 부릅니다."
      ]
    },
    {
      "cell_type": "markdown",
      "metadata": {
        "id": "Y7tNqjTAB7-M"
      },
      "source": [
        "### Quiz\n",
        "    저녁먹고 남은돈, 랜덤으로 메뉴선택(금액을 입력), 차액에 따라 다음날 점심을 먹을 수 있다 없다를 출력\n",
        "    6000 이상 식사 가능,"
      ]
    },
    {
      "cell_type": "code",
      "execution_count": null,
      "metadata": {
        "id": "TC3kJurYB7-N",
        "outputId": "8689efff-1acd-4c82-c63c-4bc8a77fb9e4"
      },
      "outputs": [
        {
          "name": "stdout",
          "output_type": "stream",
          "text": [
            "저녁 식대는 4500원\n",
            "남은 돈이 4500원이니 점심은 거르고 저녁에 국밥 한 그릇!!!!!!!!!!!!!\n"
          ]
        }
      ],
      "source": [
        "wallet = int(input(\"금액을 입력하세요: \"))\n",
        "\n",
        "menu = [15000, 8000, 4500]\n",
        "import random\n",
        "dinner = random.choice(menu)\n",
        "\n",
        "if wallet >= dinner:\n",
        "    wallet -= dinner\n",
        "    if wallet >= 6000:\n",
        "        print(f'저녁 식대는 {dinner}원')\n",
        "        print(f\"남은 돈이 {wallet}원이니 저녁은 가능하고 점심은 편의점에서 먹어야겠다.\")\n",
        "    else:\n",
        "        print(f\"저녁 식대는 {dinner}원\")\n",
        "        print(f\"남은 돈이 {wallet}원이니 점심은 패스하고 저녁이나 먹어야겠다.\")\n",
        "else:\n",
        "    if wallet >= 6000:\n",
        "        print(f\"저녁 식대는 {dinner}원\")\n",
        "        print(f\"남은 돈이 {wallet}원이니 저녁은 다이어트하고 점심만 편의점에서 먹어야겠다.\")\n",
        "    else:\n",
        "        print(f\"남은 돈이 {wallet}원이라니..이거 실화냐\")"
      ]
    },
    {
      "cell_type": "code",
      "execution_count": null,
      "metadata": {
        "pycharm": {
          "name": "#%%\n"
        },
        "id": "ri6DEFYU5uky"
      },
      "outputs": [],
      "source": []
    }
  ],
  "metadata": {
    "colab": {
      "collapsed_sections": [],
      "provenance": [],
      "include_colab_link": true
    },
    "hide_input": false,
    "kernelspec": {
      "display_name": "Python 3 (ipykernel)",
      "language": "python",
      "name": "python3"
    },
    "language_info": {
      "codemirror_mode": {
        "name": "ipython",
        "version": 3
      },
      "file_extension": ".py",
      "mimetype": "text/x-python",
      "name": "python",
      "nbconvert_exporter": "python",
      "pygments_lexer": "ipython3",
      "version": "3.8.5"
    },
    "toc": {
      "base_numbering": 1,
      "nav_menu": {},
      "number_sections": true,
      "sideBar": true,
      "skip_h1_title": false,
      "title_cell": "Table of Contents",
      "title_sidebar": "Contents",
      "toc_cell": false,
      "toc_position": {},
      "toc_section_display": true,
      "toc_window_display": false
    },
    "varInspector": {
      "cols": {
        "lenName": 16,
        "lenType": 16,
        "lenVar": 40
      },
      "kernels_config": {
        "python": {
          "delete_cmd_postfix": "",
          "delete_cmd_prefix": "del ",
          "library": "var_list.py",
          "varRefreshCmd": "print(var_dic_list())"
        },
        "r": {
          "delete_cmd_postfix": ") ",
          "delete_cmd_prefix": "rm(",
          "library": "var_list.r",
          "varRefreshCmd": "cat(var_dic_list()) "
        }
      },
      "types_to_exclude": [
        "module",
        "function",
        "builtin_function_or_method",
        "instance",
        "_Feature"
      ],
      "window_display": false
    }
  },
  "nbformat": 4,
  "nbformat_minor": 0
}