{
  "cells": [
    {
      "cell_type": "markdown",
      "metadata": {
        "id": "view-in-github",
        "colab_type": "text"
      },
      "source": [
        "<a href=\"https://colab.research.google.com/github/hhaemin/my-repository/blob/main/Class_01_contents_orientation_%26_numpy_1_array%2C_zero%2C_one.ipynb\" target=\"_parent\"><img src=\"https://colab.research.google.com/assets/colab-badge.svg\" alt=\"Open In Colab\"/></a>"
      ]
    },
    {
      "cell_type": "markdown",
      "metadata": {
        "id": "TaF9OtEOjGO-"
      },
      "source": [
        "## 목차\n",
        "    - numpy\n",
        "    - pandas\n",
        "    - matplotlib & seaborn\n",
        "    - scikit-learn"
      ]
    },
    {
      "cell_type": "markdown",
      "metadata": {
        "id": "mJ5_qJM3jGPB"
      },
      "source": [
        "### Numpy\n",
        "    - 행렬 연산을 가능하게 해주는 패키지\n",
        "    - python으로 작성되나 연산은 C, C++, 포트란으로 진행\n",
        "        - 선형대수 연산을 빠르게 할 수 있음"
      ]
    },
    {
      "cell_type": "code",
      "execution_count": null,
      "metadata": {
        "ExecuteTime": {
          "end_time": "2021-02-02T01:38:00.546479Z",
          "start_time": "2021-02-02T01:38:00.528522Z"
        },
        "colab": {
          "base_uri": "https://localhost:8080/"
        },
        "id": "-ZIbmuB9jGPC",
        "outputId": "a24e8716-7ab8-458f-f606-3ed113bcb26f"
      },
      "outputs": [
        {
          "output_type": "execute_result",
          "data": {
            "text/plain": [
              "(numpy.ndarray, array([1, 2, 3], dtype=int32))"
            ]
          },
          "metadata": {},
          "execution_count": 1
        }
      ],
      "source": [
        "import numpy as np    # 넘파이 라이브러리 불러오기, 및 np로 작성시 넘파이 사용약속\n",
        "arr       =  np.array([1, 2, 3], dtype='int32')  \n",
        "#배열객체   # 생성자 함수  #파이썬리스트\n",
        "type(arr), arr"
      ]
    },
    {
      "cell_type": "markdown",
      "metadata": {
        "id": "I7-LgR6HjGPD"
      },
      "source": [
        "    - ndarray : 한가지 데이터 타입만으로 사용이 가능"
      ]
    },
    {
      "cell_type": "code",
      "execution_count": null,
      "metadata": {
        "ExecuteTime": {
          "end_time": "2021-02-02T01:39:20.920270Z",
          "start_time": "2021-02-02T01:39:20.903288Z"
        },
        "colab": {
          "base_uri": "https://localhost:8080/"
        },
        "id": "uK1IkKTNjGPD",
        "outputId": "ca47bdc7-6d3a-4c07-eebd-ab2baab818ed"
      },
      "outputs": [
        {
          "output_type": "stream",
          "name": "stdout",
          "text": [
            "[[1 2 3]\n",
            " [4 5 6]]\n",
            "2\n",
            "(2, 3)\n",
            "6\n",
            "int64\n"
          ]
        }
      ],
      "source": [
        "arr2 = np.array([[1, 2, 3],\n",
        "                 [4, 5, 6]])\n",
        "print(arr2)          # 행렬 확인\n",
        "print(arr2.ndim)     # 행렬의 차원\n",
        "print(arr2.shape)    # 행렬의 형태\n",
        "print(arr2.size)     # 행렬 내 원소개수\n",
        "print(arr2.dtype)    # 행렬의 자료형"
      ]
    },
    {
      "cell_type": "code",
      "source": [
        "help(np.random.randint)"
      ],
      "metadata": {
        "id": "p3kEjiDGJ52s",
        "colab": {
          "base_uri": "https://localhost:8080/"
        },
        "outputId": "ce519d35-8a3c-4bad-efeb-3e5e32981c45"
      },
      "execution_count": null,
      "outputs": [
        {
          "output_type": "stream",
          "name": "stdout",
          "text": [
            "Help on built-in function randint:\n",
            "\n",
            "randint(...) method of numpy.random.mtrand.RandomState instance\n",
            "    randint(low, high=None, size=None, dtype=int)\n",
            "    \n",
            "    Return random integers from `low` (inclusive) to `high` (exclusive).\n",
            "    \n",
            "    Return random integers from the \"discrete uniform\" distribution of\n",
            "    the specified dtype in the \"half-open\" interval [`low`, `high`). If\n",
            "    `high` is None (the default), then results are from [0, `low`).\n",
            "    \n",
            "    .. note::\n",
            "        New code should use the ``integers`` method of a ``default_rng()``\n",
            "        instance instead; please see the :ref:`random-quick-start`.\n",
            "    \n",
            "    Parameters\n",
            "    ----------\n",
            "    low : int or array-like of ints\n",
            "        Lowest (signed) integers to be drawn from the distribution (unless\n",
            "        ``high=None``, in which case this parameter is one above the\n",
            "        *highest* such integer).\n",
            "    high : int or array-like of ints, optional\n",
            "        If provided, one above the largest (signed) integer to be drawn\n",
            "        from the distribution (see above for behavior if ``high=None``).\n",
            "        If array-like, must contain integer values\n",
            "    size : int or tuple of ints, optional\n",
            "        Output shape.  If the given shape is, e.g., ``(m, n, k)``, then\n",
            "        ``m * n * k`` samples are drawn.  Default is None, in which case a\n",
            "        single value is returned.\n",
            "    dtype : dtype, optional\n",
            "        Desired dtype of the result. Byteorder must be native.\n",
            "        The default value is int.\n",
            "    \n",
            "        .. versionadded:: 1.11.0\n",
            "    \n",
            "    Returns\n",
            "    -------\n",
            "    out : int or ndarray of ints\n",
            "        `size`-shaped array of random integers from the appropriate\n",
            "        distribution, or a single such random int if `size` not provided.\n",
            "    \n",
            "    See Also\n",
            "    --------\n",
            "    random_integers : similar to `randint`, only for the closed\n",
            "        interval [`low`, `high`], and 1 is the lowest value if `high` is\n",
            "        omitted.\n",
            "    Generator.integers: which should be used for new code.\n",
            "    \n",
            "    Examples\n",
            "    --------\n",
            "    >>> np.random.randint(2, size=10)\n",
            "    array([1, 0, 0, 0, 1, 1, 0, 0, 1, 0]) # random\n",
            "    >>> np.random.randint(1, size=10)\n",
            "    array([0, 0, 0, 0, 0, 0, 0, 0, 0, 0])\n",
            "    \n",
            "    Generate a 2 x 4 array of ints between 0 and 4, inclusive:\n",
            "    \n",
            "    >>> np.random.randint(5, size=(2, 4))\n",
            "    array([[4, 0, 2, 1], # random\n",
            "           [3, 2, 2, 0]])\n",
            "    \n",
            "    Generate a 1 x 3 array with 3 different upper bounds\n",
            "    \n",
            "    >>> np.random.randint(1, [3, 5, 10])\n",
            "    array([2, 2, 9]) # random\n",
            "    \n",
            "    Generate a 1 by 3 array with 3 different lower bounds\n",
            "    \n",
            "    >>> np.random.randint([1, 5, 7], 10)\n",
            "    array([9, 8, 7]) # random\n",
            "    \n",
            "    Generate a 2 by 4 array using broadcasting with dtype of uint8\n",
            "    \n",
            "    >>> np.random.randint([1, 3, 5, 7], [[10], [20]], dtype=np.uint8)\n",
            "    array([[ 8,  6,  9,  7], # random\n",
            "           [ 1, 16,  9, 12]], dtype=uint8)\n",
            "\n"
          ]
        }
      ]
    },
    {
      "cell_type": "code",
      "source": [
        "a=np.random.randint(2,10,size=(5,))\n",
        "b=np.random.randint(2,10,size=(2,4))\n",
        "c=np.random.randint(2,10,size=(2,3,4))\n",
        "print(a)\n",
        "print(b)\n",
        "print(c)"
      ],
      "metadata": {
        "colab": {
          "base_uri": "https://localhost:8080/"
        },
        "id": "_PNKenvu5xP8",
        "outputId": "e2940367-f49d-4e0a-e098-a87f45afea9f"
      },
      "execution_count": null,
      "outputs": [
        {
          "output_type": "stream",
          "name": "stdout",
          "text": [
            "[9 4 4 6 3]\n",
            "[[2 6 6 7]\n",
            " [2 8 2 3]]\n",
            "[[[6 3 7 3]\n",
            "  [8 6 8 6]\n",
            "  [4 5 8 7]]\n",
            "\n",
            " [[7 6 2 8]\n",
            "  [8 7 8 8]\n",
            "  [7 5 5 9]]]\n"
          ]
        }
      ]
    },
    {
      "cell_type": "code",
      "execution_count": null,
      "metadata": {
        "ExecuteTime": {
          "end_time": "2021-02-02T01:39:51.378729Z",
          "start_time": "2021-02-02T01:39:51.371748Z"
        },
        "id": "Bvgd-SYVjGPE",
        "outputId": "c1d309fb-f2ba-4b6a-c553-c5680d985816",
        "colab": {
          "base_uri": "https://localhost:8080/"
        }
      },
      "outputs": [
        {
          "output_type": "execute_result",
          "data": {
            "text/plain": [
              "array([[1, 2],\n",
              "       [3, 4],\n",
              "       [5, 6]])"
            ]
          },
          "metadata": {},
          "execution_count": 5
        }
      ],
      "source": [
        "arr2.reshape(3, 2)"
      ]
    },
    {
      "cell_type": "code",
      "execution_count": null,
      "metadata": {
        "ExecuteTime": {
          "end_time": "2021-02-02T01:40:30.129131Z",
          "start_time": "2021-02-02T01:40:30.108640Z"
        },
        "id": "bS-wfMKbjGPE",
        "outputId": "196ce20f-b4b4-47a9-9e4c-31fd9882de7a",
        "colab": {
          "base_uri": "https://localhost:8080/"
        }
      },
      "outputs": [
        {
          "output_type": "execute_result",
          "data": {
            "text/plain": [
              "array([4, 5, 6])"
            ]
          },
          "metadata": {},
          "execution_count": 6
        }
      ],
      "source": [
        "arr2[1]"
      ]
    },
    {
      "cell_type": "code",
      "execution_count": null,
      "metadata": {
        "ExecuteTime": {
          "end_time": "2021-02-02T01:40:41.796092Z",
          "start_time": "2021-02-02T01:40:41.785080Z"
        },
        "id": "De98f6HKjGPF",
        "outputId": "467ea65a-dfba-41f0-c36c-3355bf88c24c",
        "colab": {
          "base_uri": "https://localhost:8080/"
        }
      },
      "outputs": [
        {
          "output_type": "execute_result",
          "data": {
            "text/plain": [
              "5"
            ]
          },
          "metadata": {},
          "execution_count": 7
        }
      ],
      "source": [
        "arr2[1, 1]"
      ]
    },
    {
      "cell_type": "markdown",
      "metadata": {
        "id": "Q7gPOh0WjGPF"
      },
      "source": [
        "#### 데이터 수정"
      ]
    },
    {
      "cell_type": "code",
      "execution_count": null,
      "metadata": {
        "ExecuteTime": {
          "end_time": "2021-02-02T01:41:05.267642Z",
          "start_time": "2021-02-02T01:41:05.250664Z"
        },
        "id": "4t-WcdPBjGPG",
        "outputId": "18bb08fa-e7ed-4f8a-a2ce-81c6f783f26a",
        "colab": {
          "base_uri": "https://localhost:8080/"
        }
      },
      "outputs": [
        {
          "output_type": "execute_result",
          "data": {
            "text/plain": [
              "[1, 5, 3]"
            ]
          },
          "metadata": {},
          "execution_count": 8
        }
      ],
      "source": [
        "ls = [1, 2, 3]\n",
        "ls[1] = 5\n",
        "ls"
      ]
    },
    {
      "cell_type": "code",
      "execution_count": null,
      "metadata": {
        "ExecuteTime": {
          "end_time": "2021-02-02T01:41:41.214434Z",
          "start_time": "2021-02-02T01:41:41.207453Z"
        },
        "id": "FHOVFtoCjGPG",
        "outputId": "1711856f-0a50-4b57-c375-2491514458a9",
        "colab": {
          "base_uri": "https://localhost:8080/"
        }
      },
      "outputs": [
        {
          "output_type": "execute_result",
          "data": {
            "text/plain": [
              "array([[1, 2, 3],\n",
              "       [0, 0, 0]])"
            ]
          },
          "metadata": {},
          "execution_count": 9
        }
      ],
      "source": [
        "arr3 = np.array([[1, 2, 3],\n",
        "                 [0, 1, 0]])\n",
        "arr3[1][1] = 0\n",
        "arr3"
      ]
    },
    {
      "cell_type": "markdown",
      "metadata": {
        "id": "wB33lFeejGPH"
      },
      "source": [
        "##### array 조건 선택"
      ]
    },
    {
      "cell_type": "code",
      "execution_count": null,
      "metadata": {
        "ExecuteTime": {
          "end_time": "2021-02-02T01:42:53.899652Z",
          "start_time": "2021-02-02T01:42:53.887684Z"
        },
        "id": "srqI4qs9jGPH",
        "outputId": "12665570-5ea4-408c-c059-65d4201236a3",
        "colab": {
          "base_uri": "https://localhost:8080/"
        }
      },
      "outputs": [
        {
          "output_type": "execute_result",
          "data": {
            "text/plain": [
              "array([[5, 5, 5],\n",
              "       [5, 6, 7]])"
            ]
          },
          "metadata": {},
          "execution_count": 10
        }
      ],
      "source": [
        "arr3[0] = 5\n",
        "arr3[1] = [5, 6, 7]\n",
        "arr3"
      ]
    },
    {
      "cell_type": "code",
      "execution_count": null,
      "metadata": {
        "ExecuteTime": {
          "end_time": "2021-02-02T01:43:36.435560Z",
          "start_time": "2021-02-02T01:43:36.428609Z"
        },
        "id": "wXBtf25mjGPI",
        "outputId": "953445e2-7ad4-4238-b70e-688aab9e60de",
        "colab": {
          "base_uri": "https://localhost:8080/"
        }
      },
      "outputs": [
        {
          "output_type": "execute_result",
          "data": {
            "text/plain": [
              "array([[False, False, False],\n",
              "       [False,  True,  True]])"
            ]
          },
          "metadata": {},
          "execution_count": 11
        }
      ],
      "source": [
        "idx = arr3>5\n",
        "idx"
      ]
    },
    {
      "cell_type": "code",
      "execution_count": null,
      "metadata": {
        "ExecuteTime": {
          "end_time": "2021-02-02T01:43:36.975713Z",
          "start_time": "2021-02-02T01:43:36.956738Z"
        },
        "id": "Y9BhXQ0ejGPI",
        "outputId": "fc96c889-763c-4f86-e713-a39a0afd5a1a",
        "colab": {
          "base_uri": "https://localhost:8080/"
        }
      },
      "outputs": [
        {
          "output_type": "execute_result",
          "data": {
            "text/plain": [
              "array([6, 7])"
            ]
          },
          "metadata": {},
          "execution_count": 12
        }
      ],
      "source": [
        "arr3[idx]"
      ]
    },
    {
      "cell_type": "markdown",
      "metadata": {
        "id": "cFRS3HCAjGPI"
      },
      "source": [
        "##### 조건에 맞는 값만 변경"
      ]
    },
    {
      "cell_type": "code",
      "execution_count": null,
      "metadata": {
        "ExecuteTime": {
          "end_time": "2021-02-02T01:43:58.414724Z",
          "start_time": "2021-02-02T01:43:58.395749Z"
        },
        "id": "ZxE09mocjGPJ",
        "outputId": "d1a82050-5a15-4bb4-8d80-cb2a1600ea7c",
        "colab": {
          "base_uri": "https://localhost:8080/"
        }
      },
      "outputs": [
        {
          "output_type": "execute_result",
          "data": {
            "text/plain": [
              "array([[  5,   5,   5],\n",
              "       [  5, 100, 100]])"
            ]
          },
          "metadata": {},
          "execution_count": 13
        }
      ],
      "source": [
        "arr3[idx] = 100\n",
        "arr3"
      ]
    },
    {
      "cell_type": "markdown",
      "metadata": {
        "id": "tDkQx_eajGPJ"
      },
      "source": [
        "#### zero array"
      ]
    },
    {
      "cell_type": "code",
      "execution_count": null,
      "metadata": {
        "ExecuteTime": {
          "end_time": "2021-02-02T01:44:32.926690Z",
          "start_time": "2021-02-02T01:44:32.919711Z"
        },
        "id": "GEjWymnpjGPJ",
        "outputId": "9413b722-5e4b-4267-9873-d66a84ae6f62",
        "colab": {
          "base_uri": "https://localhost:8080/"
        }
      },
      "outputs": [
        {
          "output_type": "execute_result",
          "data": {
            "text/plain": [
              "array([[0., 0., 0.],\n",
              "       [0., 0., 0.]])"
            ]
          },
          "metadata": {},
          "execution_count": 14
        }
      ],
      "source": [
        "zero_arr = np.zeros(shape = (2, 3))\n",
        "zero_arr"
      ]
    },
    {
      "cell_type": "code",
      "execution_count": null,
      "metadata": {
        "ExecuteTime": {
          "end_time": "2021-02-02T01:44:46.433063Z",
          "start_time": "2021-02-02T01:44:46.426074Z"
        },
        "id": "z2ORNzHWjGPJ",
        "outputId": "9c35c680-f18f-4db9-ecc8-1053b0ffcfac",
        "colab": {
          "base_uri": "https://localhost:8080/"
        }
      },
      "outputs": [
        {
          "output_type": "execute_result",
          "data": {
            "text/plain": [
              "numpy.ndarray"
            ]
          },
          "metadata": {},
          "execution_count": 15
        }
      ],
      "source": [
        "type(zero_arr)"
      ]
    },
    {
      "cell_type": "code",
      "execution_count": null,
      "metadata": {
        "ExecuteTime": {
          "end_time": "2021-02-02T01:45:01.103458Z",
          "start_time": "2021-02-02T01:45:01.092488Z"
        },
        "id": "PN9nT2WZjGPJ",
        "outputId": "7889c33d-6d65-4526-9333-bf8546822906",
        "colab": {
          "base_uri": "https://localhost:8080/"
        }
      },
      "outputs": [
        {
          "output_type": "execute_result",
          "data": {
            "text/plain": [
              "dtype('float64')"
            ]
          },
          "metadata": {},
          "execution_count": 16
        }
      ],
      "source": [
        "zero_arr.dtype # 실수형 값만 바꿔 넣을 수 있음"
      ]
    },
    {
      "cell_type": "markdown",
      "metadata": {
        "id": "hz9a6yQqjGPK"
      },
      "source": [
        "##### array안의 데이터 형태 변경"
      ]
    },
    {
      "cell_type": "code",
      "execution_count": null,
      "metadata": {
        "ExecuteTime": {
          "end_time": "2021-02-02T01:46:02.240813Z",
          "start_time": "2021-02-02T01:46:02.231868Z"
        },
        "id": "7Sx69bR_jGPK",
        "outputId": "4c1e88a6-ec88-4be2-bb1f-024bf5842279",
        "colab": {
          "base_uri": "https://localhost:8080/"
        }
      },
      "outputs": [
        {
          "output_type": "execute_result",
          "data": {
            "text/plain": [
              "dtype('int16')"
            ]
          },
          "metadata": {},
          "execution_count": 17
        }
      ],
      "source": [
        "z2 = zero_arr.astype('int16')\n",
        "z2.dtype"
      ]
    },
    {
      "cell_type": "markdown",
      "metadata": {
        "id": "W8VlIH9ejGPK"
      },
      "source": [
        "#### one array"
      ]
    },
    {
      "cell_type": "code",
      "execution_count": null,
      "metadata": {
        "ExecuteTime": {
          "end_time": "2021-02-02T01:48:07.903196Z",
          "start_time": "2021-02-02T01:48:07.888234Z"
        },
        "id": "vVL6gQKVjGPK",
        "outputId": "d4c62714-26d3-4996-8014-560922cac0ef",
        "colab": {
          "base_uri": "https://localhost:8080/"
        }
      },
      "outputs": [
        {
          "output_type": "execute_result",
          "data": {
            "text/plain": [
              "(dtype('float64'), array([[1., 1., 1.],\n",
              "        [1., 1., 1.]]))"
            ]
          },
          "metadata": {},
          "execution_count": 18
        }
      ],
      "source": [
        "one_arr = np.ones((2, 3))\n",
        "one_arr.dtype, one_arr"
      ]
    },
    {
      "cell_type": "code",
      "execution_count": null,
      "metadata": {
        "ExecuteTime": {
          "end_time": "2021-02-02T01:48:41.625341Z",
          "start_time": "2021-02-02T01:48:41.616365Z"
        },
        "id": "L74i4jjtjGPK",
        "outputId": "dc91c62e-78e9-43f5-b4e9-8802b9eed074",
        "colab": {
          "base_uri": "https://localhost:8080/"
        }
      },
      "outputs": [
        {
          "output_type": "execute_result",
          "data": {
            "text/plain": [
              "(dtype('int64'), array([[[1, 1],\n",
              "         [1, 1],\n",
              "         [1, 1]],\n",
              " \n",
              "        [[1, 1],\n",
              "         [1, 1],\n",
              "         [1, 1]]]))"
            ]
          },
          "metadata": {},
          "execution_count": 19
        }
      ],
      "source": [
        "one_arr2 = np.ones((2, 3, 2)).astype('int')\n",
        "one_arr2.dtype, one_arr2"
      ]
    },
    {
      "cell_type": "code",
      "source": [
        "id = np.identity(n=5, dtype=np.int8) # 단위 행렬\n",
        "id"
      ],
      "metadata": {
        "colab": {
          "base_uri": "https://localhost:8080/"
        },
        "id": "ahreHfnN8JEb",
        "outputId": "ccf8f2c7-45e9-4488-840b-7b88c46f1eee"
      },
      "execution_count": null,
      "outputs": [
        {
          "output_type": "execute_result",
          "data": {
            "text/plain": [
              "array([[1, 0, 0, 0, 0],\n",
              "       [0, 1, 0, 0, 0],\n",
              "       [0, 0, 1, 0, 0],\n",
              "       [0, 0, 0, 1, 0],\n",
              "       [0, 0, 0, 0, 1]], dtype=int8)"
            ]
          },
          "metadata": {},
          "execution_count": 20
        }
      ]
    },
    {
      "cell_type": "markdown",
      "metadata": {
        "id": "d1gF29m_jGPL"
      },
      "source": [
        "#### 범위값 array 생성"
      ]
    },
    {
      "cell_type": "code",
      "execution_count": null,
      "metadata": {
        "ExecuteTime": {
          "end_time": "2021-02-02T01:58:29.771621Z",
          "start_time": "2021-02-02T01:58:29.761651Z"
        },
        "id": "PFIC0GXMjGPL",
        "outputId": "973e521c-82e3-4c8d-d7ca-d7c77099a2eb",
        "colab": {
          "base_uri": "https://localhost:8080/"
        }
      },
      "outputs": [
        {
          "output_type": "execute_result",
          "data": {
            "text/plain": [
              "array([ 1,  2,  3,  4,  5,  6,  7,  8,  9, 10])"
            ]
          },
          "metadata": {},
          "execution_count": 22
        }
      ],
      "source": [
        "arr = np.arange(1, 11)\n",
        "arr\n"
      ]
    }
  ],
  "metadata": {
    "hide_input": false,
    "kernelspec": {
      "display_name": "Python 3",
      "language": "python",
      "name": "python3"
    },
    "language_info": {
      "codemirror_mode": {
        "name": "ipython",
        "version": 3
      },
      "file_extension": ".py",
      "mimetype": "text/x-python",
      "name": "python",
      "nbconvert_exporter": "python",
      "pygments_lexer": "ipython3",
      "version": "3.8.5"
    },
    "toc": {
      "base_numbering": 1,
      "nav_menu": {},
      "number_sections": true,
      "sideBar": true,
      "skip_h1_title": false,
      "title_cell": "Table of Contents",
      "title_sidebar": "Contents",
      "toc_cell": false,
      "toc_position": {},
      "toc_section_display": true,
      "toc_window_display": false
    },
    "varInspector": {
      "cols": {
        "lenName": 16,
        "lenType": 16,
        "lenVar": 40
      },
      "kernels_config": {
        "python": {
          "delete_cmd_postfix": "",
          "delete_cmd_prefix": "del ",
          "library": "var_list.py",
          "varRefreshCmd": "print(var_dic_list())"
        },
        "r": {
          "delete_cmd_postfix": ") ",
          "delete_cmd_prefix": "rm(",
          "library": "var_list.r",
          "varRefreshCmd": "cat(var_dic_list()) "
        }
      },
      "types_to_exclude": [
        "module",
        "function",
        "builtin_function_or_method",
        "instance",
        "_Feature"
      ],
      "window_display": false
    },
    "colab": {
      "provenance": [],
      "collapsed_sections": [],
      "include_colab_link": true
    }
  },
  "nbformat": 4,
  "nbformat_minor": 0
}