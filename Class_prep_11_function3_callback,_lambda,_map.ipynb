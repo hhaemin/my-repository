{
  "cells": [
    {
      "cell_type": "markdown",
      "metadata": {
        "id": "view-in-github",
        "colab_type": "text"
      },
      "source": [
        "<a href=\"https://colab.research.google.com/github/hhaemin/my-repository/blob/main/Class_prep_11_function3_callback%2C_lambda%2C_map.ipynb\" target=\"_parent\"><img src=\"https://colab.research.google.com/assets/colab-badge.svg\" alt=\"Open In Colab\"/></a>"
      ]
    },
    {
      "cell_type": "markdown",
      "metadata": {
        "id": "W3ka4FiwGIPK"
      },
      "source": [
        "#### callback function\n",
        "    - 함수를 args 파라미터로 설정해서 사용\n",
        "    - 함수가 다른 함수를 호출하여 결과값을 실행\n",
        "        - 재귀함수에서 잘 사용"
      ]
    },
    {
      "cell_type": "code",
      "execution_count": null,
      "metadata": {
        "ExecuteTime": {
          "end_time": "2021-01-15T02:09:12.432276Z",
          "start_time": "2021-01-15T02:09:12.257Z"
        },
        "id": "JGTwfrgqGIPK"
      },
      "outputs": [],
      "source": [
        "def calc(func, a, b):\n",
        "  return func(a,b)"
      ]
    },
    {
      "cell_type": "code",
      "execution_count": null,
      "metadata": {
        "ExecuteTime": {
          "end_time": "2021-01-15T02:09:12.434268Z",
          "start_time": "2021-01-15T02:09:12.259Z"
        },
        "id": "rZpfCqxmGIPL"
      },
      "outputs": [],
      "source": [
        "def hap(a,b):\n",
        "  return a+b\n",
        "def gop(a,b):\n",
        "  return a*b"
      ]
    },
    {
      "cell_type": "code",
      "execution_count": null,
      "metadata": {
        "ExecuteTime": {
          "end_time": "2021-01-15T02:09:12.435291Z",
          "start_time": "2021-01-15T02:09:12.260Z"
        },
        "id": "ZXgJZau3GIPL",
        "colab": {
          "base_uri": "https://localhost:8080/"
        },
        "outputId": "92b3fa79-202a-49ad-fcd9-3f5c03f809ba"
      },
      "outputs": [
        {
          "output_type": "execute_result",
          "data": {
            "text/plain": [
              "(5, 30)"
            ]
          },
          "metadata": {},
          "execution_count": 3
        }
      ],
      "source": [
        "calc(hap, 2, 3), calc(gop, 5, 6)"
      ]
    },
    {
      "cell_type": "code",
      "execution_count": null,
      "metadata": {
        "id": "-aLyFNR3GkQx",
        "colab": {
          "base_uri": "https://localhost:8080/"
        },
        "outputId": "13577e0f-09c2-484f-e41c-ba777ca14499"
      },
      "outputs": [
        {
          "output_type": "stream",
          "name": "stdout",
          "text": [
            "120\n"
          ]
        }
      ],
      "source": [
        "def factorial(n):\n",
        "  if n ==1:                   # n이 1일 때\n",
        "    return 1                  # 1을 반환하고 재귀호출을 끝냄\n",
        "  return n *factorial(n-1)    # n과 factorial 함수에 n-1을 넣어서 반환된 값을 곱함\n",
        "\n",
        "print(factorial(5))"
      ]
    },
    {
      "cell_type": "markdown",
      "metadata": {
        "id": "lypyze9-GIPM"
      },
      "source": [
        "#### lambda function\n",
        "    - 파라미터를 간단한 계산으로 리턴"
      ]
    },
    {
      "cell_type": "code",
      "execution_count": null,
      "metadata": {
        "ExecuteTime": {
          "end_time": "2021-01-15T02:09:12.435291Z",
          "start_time": "2021-01-15T02:09:12.261Z"
        },
        "id": "Nkuqs5T_GIPM",
        "colab": {
          "base_uri": "https://localhost:8080/"
        },
        "outputId": "f85f8a98-b28e-41e6-d18e-81ac18d6b0d0"
      },
      "outputs": [
        {
          "output_type": "execute_result",
          "data": {
            "text/plain": [
              "9"
            ]
          },
          "metadata": {},
          "execution_count": 6
        }
      ],
      "source": [
        "def hap(a,b):\n",
        "  return a+b\n",
        "hap2 = lambda a,b:a+b #파라미터 : 리턴\n",
        "hap(4,5)"
      ]
    },
    {
      "cell_type": "markdown",
      "metadata": {
        "id": "CgyWfHLEGIPN"
      },
      "source": [
        "### Quiz"
      ]
    },
    {
      "cell_type": "markdown",
      "metadata": {
        "id": "wl9pxsJhGIPN"
      },
      "source": [
        "#### string 타입 데이터를 입력 받았을 때 문자열 가운데를 출력"
      ]
    },
    {
      "cell_type": "code",
      "execution_count": null,
      "metadata": {
        "ExecuteTime": {
          "end_time": "2021-01-17T23:30:14.268539Z",
          "start_time": "2021-01-17T23:30:12.350993Z"
        },
        "colab": {
          "base_uri": "https://localhost:8080/",
          "height": 72
        },
        "id": "Bzd7tCiTGIPN",
        "outputId": "f916d4a1-7a6e-4ac3-915f-e92a3cf5cb54"
      },
      "outputs": [
        {
          "output_type": "stream",
          "name": "stdout",
          "text": [
            "text:  start up university\n",
            "length:  9\n"
          ]
        },
        {
          "output_type": "execute_result",
          "data": {
            "text/plain": [
              "'u'"
            ],
            "application/vnd.google.colaboratory.intrinsic+json": {
              "type": "string"
            }
          },
          "metadata": {},
          "execution_count": 5
        }
      ],
      "source": [
        "text = 'start up university'\n",
        "a = int(len(text)/2)\n",
        "print(\"text: \", text)\n",
        "print(\"length: \", a)\n",
        "text[a]"
      ]
    },
    {
      "cell_type": "code",
      "execution_count": null,
      "metadata": {
        "colab": {
          "base_uri": "https://localhost:8080/",
          "height": 36
        },
        "id": "53tkHfQCG9JV",
        "outputId": "1a1969df-d119-4ddc-8387-ae263650ae8f"
      },
      "outputs": [
        {
          "output_type": "execute_result",
          "data": {
            "text/plain": [
              "'u'"
            ],
            "application/vnd.google.colaboratory.intrinsic+json": {
              "type": "string"
            }
          },
          "metadata": {},
          "execution_count": 4
        }
      ],
      "source": [
        "substr = lambda x : text[a] if len(text)%2 else text[a-1:a]\n",
        "substr(text)"
      ]
    },
    {
      "cell_type": "markdown",
      "metadata": {
        "id": "UPcxwruwddnp"
      },
      "source": [
        "#### map, filter, reduce"
      ]
    },
    {
      "cell_type": "markdown",
      "metadata": {
        "id": "hoApEz4pddnq"
      },
      "source": [
        "##### map\n",
        "    - 순서가 있는 데이터 집합에서 모든 값에 함수를 적용시켜 결과 출력"
      ]
    },
    {
      "cell_type": "code",
      "execution_count": null,
      "metadata": {
        "pycharm": {
          "name": "#%%\n"
        },
        "colab": {
          "base_uri": "https://localhost:8080/"
        },
        "id": "yNxgbHGPddnq",
        "outputId": "fe9888be-95ef-4448-8019-00896dee15aa"
      },
      "outputs": [
        {
          "output_type": "execute_result",
          "data": {
            "text/plain": [
              "['odd', 'even', 'odd', 'even']"
            ]
          },
          "metadata": {},
          "execution_count": 6
        }
      ],
      "source": [
        "ls = [1,2,3,4]\n",
        "def odd_even(n):\n",
        "  return \"odd\" if n%2 else \"even\"\n",
        "list(map(odd_even, ls))"
      ]
    },
    {
      "cell_type": "code",
      "execution_count": null,
      "metadata": {
        "pycharm": {
          "name": "#%%\n"
        },
        "colab": {
          "base_uri": "https://localhost:8080/"
        },
        "id": "BoY9treDddnq",
        "outputId": "b7a1d603-a801-4a5b-ef21-3378ce7ba7b3"
      },
      "outputs": [
        {
          "output_type": "stream",
          "name": "stdout",
          "text": [
            "[10, 12, 14, 16, 18, 20]\n"
          ]
        }
      ],
      "source": [
        "ls2 = [5,6,7,8,9,10]\n",
        "result = map(lambda x: 2*x, ls2)\n",
        "\n",
        "print(list(result))"
      ]
    },
    {
      "cell_type": "markdown",
      "metadata": {
        "id": "9Z1-Mjn5ddnq"
      },
      "source": [
        "##### quiz : map\n",
        "    - map을 이용하여 입력받는 숫자를 리스트에 바로 담기\n",
        "    - input(), list(), split() 사용하기"
      ]
    },
    {
      "cell_type": "code",
      "execution_count": null,
      "metadata": {
        "pycharm": {
          "name": "#%%\n"
        },
        "colab": {
          "base_uri": "https://localhost:8080/"
        },
        "id": "x9BXHqcZddnq",
        "outputId": "04619ceb-c6e6-42a2-b160-53ec32a905d0"
      },
      "outputs": [
        {
          "name": "stdout",
          "output_type": "stream",
          "text": [
            "insert numbers :9 10 47 21\n"
          ]
        },
        {
          "output_type": "execute_result",
          "data": {
            "text/plain": [
              "[9, 10, 47, 21]"
            ]
          },
          "metadata": {},
          "execution_count": 8
        }
      ],
      "source": [
        "num = input(\"insert numbers :\")\n",
        "res = num.split(\" \")\n",
        "res = list(map(int, res))\n",
        "res"
      ]
    },
    {
      "cell_type": "code",
      "execution_count": null,
      "metadata": {
        "pycharm": {
          "name": "#%%\n"
        },
        "colab": {
          "base_uri": "https://localhost:8080/"
        },
        "id": "pxLhgxFyddnq",
        "outputId": "ed768767-e664-4d69-caad-ed91da6ab479"
      },
      "outputs": [
        {
          "output_type": "stream",
          "name": "stdout",
          "text": [
            "[-17.77777777777778, -12.222222222222223, -6.666666666666667, -1.1111111111111112, 4.444444444444445, 10.0]\n"
          ]
        }
      ],
      "source": [
        "def celsius(C):\n",
        "  return (5/9)*(C-32) # 온도 바꾸는 공식 \n",
        "\n",
        "f_temp = [0,10,20,30,40,50]\n",
        "\n",
        "c_temp = map(celsius, f_temp)\n",
        "print(list(c_temp))\n",
        "\n",
        "# 섭씨 온도를 화씨 온도로 바꾸기"
      ]
    },
    {
      "cell_type": "markdown",
      "metadata": {
        "id": "QLw9rJUbddnr"
      },
      "source": [
        "##### filter\n",
        "    - list 데이터에서 특정 조건에 맞는 것만 출력"
      ]
    },
    {
      "cell_type": "code",
      "execution_count": null,
      "metadata": {
        "pycharm": {
          "name": "#%%\n"
        },
        "colab": {
          "base_uri": "https://localhost:8080/"
        },
        "id": "R9g_j7umddnr",
        "outputId": "e809f314-ee9d-4efd-8f59-e30a25b59bbd"
      },
      "outputs": [
        {
          "output_type": "execute_result",
          "data": {
            "text/plain": [
              "[1, 3, 5, 7, 9]"
            ]
          },
          "metadata": {},
          "execution_count": 10
        }
      ],
      "source": [
        "ls = range(10)\n",
        "list(filter(lambda x: True if x%2 else False, ls))\n",
        "\n",
        "# 홀수만 출력"
      ]
    },
    {
      "cell_type": "markdown",
      "metadata": {
        "id": "96w0reWbddnr"
      },
      "source": [
        "#### reduce\n",
        "    - reduce(f, iterable) 은 f 함수를 iterable에 연속적으로 적용하여 값을 반환한다.\n",
        "    - list 데이터를 처음부터 순서대로 특정 함수를 실행하여 결과를 누적"
      ]
    },
    {
      "cell_type": "code",
      "execution_count": null,
      "metadata": {
        "pycharm": {
          "name": "#%%\n"
        },
        "colab": {
          "base_uri": "https://localhost:8080/"
        },
        "id": "MxqRBlawddnr",
        "outputId": "9fe7704b-f466-4935-d3f0-e76d0dd350fd"
      },
      "outputs": [
        {
          "output_type": "execute_result",
          "data": {
            "text/plain": [
              "15"
            ]
          },
          "metadata": {},
          "execution_count": 11
        }
      ],
      "source": [
        "from functools import reduce # functools.reduce\n",
        "ls = [3,1,2,4,5]\n",
        "reduce(lambda x, y:x+y, ls)"
      ]
    }
  ],
  "metadata": {
    "colab": {
      "collapsed_sections": [],
      "provenance": [],
      "include_colab_link": true
    },
    "hide_input": false,
    "kernelspec": {
      "display_name": "Python 3 (ipykernel)",
      "language": "python",
      "name": "python3"
    },
    "language_info": {
      "codemirror_mode": {
        "name": "ipython",
        "version": 3
      },
      "file_extension": ".py",
      "mimetype": "text/x-python",
      "name": "python",
      "nbconvert_exporter": "python",
      "pygments_lexer": "ipython3",
      "version": "3.8.5"
    },
    "toc": {
      "base_numbering": 1,
      "nav_menu": {},
      "number_sections": true,
      "sideBar": true,
      "skip_h1_title": false,
      "title_cell": "Table of Contents",
      "title_sidebar": "Contents",
      "toc_cell": false,
      "toc_position": {},
      "toc_section_display": true,
      "toc_window_display": false
    },
    "varInspector": {
      "cols": {
        "lenName": 16,
        "lenType": 16,
        "lenVar": 40
      },
      "kernels_config": {
        "python": {
          "delete_cmd_postfix": "",
          "delete_cmd_prefix": "del ",
          "library": "var_list.py",
          "varRefreshCmd": "print(var_dic_list())"
        },
        "r": {
          "delete_cmd_postfix": ") ",
          "delete_cmd_prefix": "rm(",
          "library": "var_list.r",
          "varRefreshCmd": "cat(var_dic_list()) "
        }
      },
      "types_to_exclude": [
        "module",
        "function",
        "builtin_function_or_method",
        "instance",
        "_Feature"
      ],
      "window_display": false
    }
  },
  "nbformat": 4,
  "nbformat_minor": 0
}