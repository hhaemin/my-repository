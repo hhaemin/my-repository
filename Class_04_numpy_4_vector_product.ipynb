{
  "nbformat": 4,
  "nbformat_minor": 0,
  "metadata": {
    "colab": {
      "provenance": [],
      "collapsed_sections": [],
      "include_colab_link": true
    },
    "kernelspec": {
      "name": "python3",
      "display_name": "Python 3"
    },
    "language_info": {
      "name": "python"
    }
  },
  "cells": [
    {
      "cell_type": "markdown",
      "metadata": {
        "id": "view-in-github",
        "colab_type": "text"
      },
      "source": [
        "<a href=\"https://colab.research.google.com/github/hhaemin/my-repository/blob/main/Class_04_numpy_4_vector_product.ipynb\" target=\"_parent\"><img src=\"https://colab.research.google.com/assets/colab-badge.svg\" alt=\"Open In Colab\"/></a>"
      ]
    },
    {
      "cell_type": "markdown",
      "source": [
        "### inner product"
      ],
      "metadata": {
        "id": "8Oa5SlBmuk4z"
      }
    },
    {
      "cell_type": "code",
      "execution_count": null,
      "metadata": {
        "id": "CYNkfzU-ub5Y",
        "colab": {
          "base_uri": "https://localhost:8080/"
        },
        "outputId": "a2569c74-1e82-497e-c5c8-c04fd87b1043"
      },
      "outputs": [
        {
          "output_type": "execute_result",
          "data": {
            "text/plain": [
              "(array([[0, 7, 2, 3],\n",
              "        [5, 6, 1, 4]]), array([[5, 2, 4, 6],\n",
              "        [6, 4, 3, 1]]))"
            ]
          },
          "metadata": {},
          "execution_count": 2
        }
      ],
      "source": [
        "import numpy as np\n",
        "a = np.random.randint(0,10,(2,4))\n",
        "b = np.random.randint(0,10,(2,4))\n",
        "a,b"
      ]
    },
    {
      "cell_type": "code",
      "source": [
        "np.dot(a,b.T)"
      ],
      "metadata": {
        "colab": {
          "base_uri": "https://localhost:8080/"
        },
        "id": "q1J84B1yukan",
        "outputId": "f1d082ab-76fe-472e-ff4a-11286e910edb"
      },
      "execution_count": null,
      "outputs": [
        {
          "output_type": "execute_result",
          "data": {
            "text/plain": [
              "array([[40, 37],\n",
              "       [65, 61]])"
            ]
          },
          "metadata": {},
          "execution_count": 3
        }
      ]
    },
    {
      "cell_type": "code",
      "source": [
        "np.inner(a,b)"
      ],
      "metadata": {
        "colab": {
          "base_uri": "https://localhost:8080/"
        },
        "id": "c4tCQWy8vIsT",
        "outputId": "bcf1717b-ba1b-49da-a105-c92743ba236f"
      },
      "execution_count": null,
      "outputs": [
        {
          "output_type": "execute_result",
          "data": {
            "text/plain": [
              "array([[40, 37],\n",
              "       [65, 61]])"
            ]
          },
          "metadata": {},
          "execution_count": 4
        }
      ]
    },
    {
      "cell_type": "markdown",
      "source": [
        " - numpy.inner : 1차원 또는 2차원 배열일 경우 내적을 위해 두 번째 행렬을 전치한 다음 곱해준다.\n",
        " - numpy.dot : 2차원 배열의 경우 행렬곱 연산을 수행하며 1차원 배열일 경우 벡터의 내적에 해당한다. "
      ],
      "metadata": {
        "id": "qgqb_MzRviLj"
      }
    },
    {
      "cell_type": "code",
      "source": [
        "np.inner(a,b.T)"
      ],
      "metadata": {
        "id": "dXj0msJHv2Lf",
        "colab": {
          "base_uri": "https://localhost:8080/",
          "height": 205
        },
        "outputId": "a2d3ea5c-61fe-48ac-f85e-4f81b156f484"
      },
      "execution_count": null,
      "outputs": [
        {
          "output_type": "error",
          "ename": "ValueError",
          "evalue": "ignored",
          "traceback": [
            "\u001b[0;31m---------------------------------------------------------------------------\u001b[0m",
            "\u001b[0;31mValueError\u001b[0m                                Traceback (most recent call last)",
            "\u001b[0;32m<ipython-input-5-c37a550fc027>\u001b[0m in \u001b[0;36m<module>\u001b[0;34m\u001b[0m\n\u001b[0;32m----> 1\u001b[0;31m \u001b[0mnp\u001b[0m\u001b[0;34m.\u001b[0m\u001b[0minner\u001b[0m\u001b[0;34m(\u001b[0m\u001b[0ma\u001b[0m\u001b[0;34m,\u001b[0m\u001b[0mb\u001b[0m\u001b[0;34m.\u001b[0m\u001b[0mT\u001b[0m\u001b[0;34m)\u001b[0m\u001b[0;34m\u001b[0m\u001b[0;34m\u001b[0m\u001b[0m\n\u001b[0m",
            "\u001b[0;32m<__array_function__ internals>\u001b[0m in \u001b[0;36minner\u001b[0;34m(*args, **kwargs)\u001b[0m\n",
            "\u001b[0;31mValueError\u001b[0m: shapes (2,4) and (2,4) not aligned: 4 (dim 1) != 2 (dim 0)"
          ]
        }
      ]
    },
    {
      "cell_type": "markdown",
      "source": [
        "### 고유값, 고유벡터"
      ],
      "metadata": {
        "id": "5D74H613v8I3"
      }
    },
    {
      "cell_type": "code",
      "source": [
        "a = np.array([[1,-1], [1,1]])"
      ],
      "metadata": {
        "id": "3HTN1u92v7-D"
      },
      "execution_count": null,
      "outputs": []
    },
    {
      "cell_type": "code",
      "source": [
        "value, vector = np.linalg.eig(a)\n",
        "value, vector"
      ],
      "metadata": {
        "colab": {
          "base_uri": "https://localhost:8080/"
        },
        "id": "ChFeIcK2v7EH",
        "outputId": "9edfe0c3-effa-484f-a417-1dc30915f243"
      },
      "execution_count": null,
      "outputs": [
        {
          "output_type": "execute_result",
          "data": {
            "text/plain": [
              "(array([1.+1.j, 1.-1.j]),\n",
              " array([[0.70710678+0.j        , 0.70710678-0.j        ],\n",
              "        [0.        -0.70710678j, 0.        +0.70710678j]]))"
            ]
          },
          "metadata": {},
          "execution_count": 7
        }
      ]
    },
    {
      "cell_type": "code",
      "source": [
        "arr = np.random.randn(3,3)\n",
        "arr"
      ],
      "metadata": {
        "colab": {
          "base_uri": "https://localhost:8080/"
        },
        "id": "k0Fj6Wzq-CyD",
        "outputId": "fccd3736-c4fc-4e7f-c6be-46f576c3e968"
      },
      "execution_count": null,
      "outputs": [
        {
          "output_type": "execute_result",
          "data": {
            "text/plain": [
              "array([[ 0.55501609, -0.20365391,  1.2035725 ],\n",
              "       [ 0.26968391,  0.43470709,  0.50179806],\n",
              "       [ 1.59190176,  0.38258144,  0.24218151]])"
            ]
          },
          "metadata": {},
          "execution_count": 8
        }
      ]
    },
    {
      "cell_type": "code",
      "source": [
        "mat = np.dot(arr.T, arr)\n",
        "mat, np.linalg.inv(mat)"
      ],
      "metadata": {
        "colab": {
          "base_uri": "https://localhost:8080/"
        },
        "id": "TOESIjgH_8LD",
        "outputId": "e1f3304e-5e8a-4603-f67b-7b5bc3c47974"
      },
      "execution_count": null,
      "outputs": [
        {
          "output_type": "execute_result",
          "data": {
            "text/plain": [
              "(array([[2.91492348, 0.61323437, 1.18885814],\n",
              "        [0.61323437, 0.37681372, 0.06567708],\n",
              "        [1.18885814, 0.06567708, 1.75903995]]),\n",
              " array([[ 0.80188672, -1.21847488, -0.49646609],\n",
              "        [-1.21847488,  4.52269926,  0.65465035],\n",
              "        [-0.49646609,  0.65465035,  0.87958903]]))"
            ]
          },
          "metadata": {},
          "execution_count": 9
        }
      ]
    },
    {
      "cell_type": "code",
      "source": [
        "np.dot(mat, np.linalg.inv(mat))"
      ],
      "metadata": {
        "colab": {
          "base_uri": "https://localhost:8080/"
        },
        "id": "MPzR7jZ4AKwj",
        "outputId": "d617ad27-e2b8-4b70-b1fb-ba3ff531278e"
      },
      "execution_count": null,
      "outputs": [
        {
          "output_type": "execute_result",
          "data": {
            "text/plain": [
              "array([[ 1.00000000e+00, -1.82303507e-17,  2.18944198e-16],\n",
              "       [-6.07843501e-17,  1.00000000e+00, -2.24726212e-17],\n",
              "       [ 5.31664211e-17, -1.95076743e-16,  1.00000000e+00]])"
            ]
          },
          "metadata": {},
          "execution_count": 10
        }
      ]
    },
    {
      "cell_type": "code",
      "source": [],
      "metadata": {
        "id": "HVh17fKnCHzj"
      },
      "execution_count": null,
      "outputs": []
    }
  ]
}