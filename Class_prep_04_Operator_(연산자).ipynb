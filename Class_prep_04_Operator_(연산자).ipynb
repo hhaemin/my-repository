{
  "cells": [
    {
      "cell_type": "markdown",
      "metadata": {
        "id": "view-in-github",
        "colab_type": "text"
      },
      "source": [
        "<a href=\"https://colab.research.google.com/github/hhaemin/my-repository/blob/main/Class_prep_04_Operator_(%E1%84%8B%E1%85%A7%E1%86%AB%E1%84%89%E1%85%A1%E1%86%AB%E1%84%8C%E1%85%A1).ipynb\" target=\"_parent\"><img src=\"https://colab.research.google.com/assets/colab-badge.svg\" alt=\"Open In Colab\"/></a>"
      ]
    },
    {
      "cell_type": "markdown",
      "metadata": {
        "id": "5jwuDWQiA8RX"
      },
      "source": [
        "### 연산자\n",
        "    - 산술\n",
        "    - 할당\n",
        "    - 비교\n",
        "    - 논리\n",
        "    - 멤버"
      ]
    },
    {
      "cell_type": "markdown",
      "metadata": {
        "id": "0PDnCl3vA8Rb"
      },
      "source": [
        "#### 산술\n",
        "    + : 덧셈\n",
        "    - : 뺄셈\n",
        "    * : 곱셈\n",
        "    / : 나눗셈\n",
        "    //: 나눗셈의 몫만\n",
        "    % : 나눗셈의 나머지만\n",
        "    **: 제곱"
      ]
    },
    {
      "cell_type": "code",
      "execution_count": 1,
      "metadata": {
        "ExecuteTime": {
          "end_time": "2021-01-13T07:39:00.889615Z",
          "start_time": "2021-01-13T07:39:00.869674Z"
        },
        "colab": {
          "base_uri": "https://localhost:8080/"
        },
        "id": "OARdUzEiA8Rc",
        "outputId": "ec6ac766-5e05-4973-a35f-32907b2ae5ba"
      },
      "outputs": [
        {
          "output_type": "execute_result",
          "data": {
            "text/plain": [
              "6.0"
            ]
          },
          "metadata": {},
          "execution_count": 1
        }
      ],
      "source": [
        "8 - 4 * 2 / 2 ** 2"
      ]
    },
    {
      "cell_type": "markdown",
      "metadata": {
        "id": "azFxgvnEA8Rd"
      },
      "source": [
        "#### 할당"
      ]
    },
    {
      "cell_type": "code",
      "execution_count": 3,
      "metadata": {
        "ExecuteTime": {
          "end_time": "2021-01-13T07:39:55.778548Z",
          "start_time": "2021-01-13T07:39:55.766565Z"
        },
        "colab": {
          "base_uri": "https://localhost:8080/"
        },
        "id": "ImULZCFaA8Rd",
        "outputId": "e4344d52-cdef-49e8-f9ec-e69d67a19dc3"
      },
      "outputs": [
        {
          "output_type": "execute_result",
          "data": {
            "text/plain": [
              "121.00000000000003"
            ]
          },
          "metadata": {},
          "execution_count": 3
        }
      ],
      "source": [
        "a = 100\n",
        "a *= 1.1 # a = a * 1.1\n",
        "a *= 1.1\n",
        "a"
      ]
    },
    {
      "cell_type": "code",
      "execution_count": null,
      "metadata": {
        "colab": {
          "base_uri": "https://localhost:8080/"
        },
        "id": "2-rHX4KDBA7j",
        "outputId": "d9fa9ff9-dfa1-450f-840b-372623ae5dc2"
      },
      "outputs": [
        {
          "name": "stdout",
          "output_type": "stream",
          "text": [
            "55\n"
          ]
        }
      ],
      "source": [
        "a = 0\n",
        "\n",
        "for i in range(1,11):\n",
        "  a += i\n",
        "  # a = a + i\n",
        "\n",
        "  print(a)"
      ]
    },
    {
      "cell_type": "markdown",
      "metadata": {
        "id": "Ho9nZ69bA8Re"
      },
      "source": [
        "#### 비교\n",
        "    >, <, >=, <=, ==, !=\n",
        "    결과값은 True, False로 출력"
      ]
    },
    {
      "cell_type": "code",
      "execution_count": 4,
      "metadata": {
        "ExecuteTime": {
          "end_time": "2021-01-13T07:41:11.298220Z",
          "start_time": "2021-01-13T07:41:11.283259Z"
        },
        "colab": {
          "base_uri": "https://localhost:8080/"
        },
        "id": "JdO0oPdHA8Re",
        "outputId": "e0ffb030-67f2-4980-9a57-b81d20cdfe9a"
      },
      "outputs": [
        {
          "output_type": "stream",
          "name": "stdout",
          "text": [
            "True False\n",
            "False\n"
          ]
        }
      ],
      "source": [
        "b = 3\n",
        "c = 3.0\n",
        "\n",
        "print(b==c, b>c)\n",
        "print(b != c)"
      ]
    },
    {
      "cell_type": "markdown",
      "metadata": {
        "id": "nmepP1VeA8Rf"
      },
      "source": [
        "#### 논리 \n",
        "    and, or, not\n",
        "    True, False로 나타내는 연산\n",
        "    연산은 앞에서부터 순서대로 진행\n",
        "    and : 앞 뒤 조건을 모두 만족할 때만 True\n",
        "    or : 앞 뒤 조건 중 하나라도 만족한다면 True\n",
        "    not : 부정형"
      ]
    },
    {
      "cell_type": "code",
      "execution_count": null,
      "metadata": {
        "ExecuteTime": {
          "end_time": "2021-01-13T07:42:24.540072Z",
          "start_time": "2021-01-13T07:42:24.535085Z"
        },
        "colab": {
          "base_uri": "https://localhost:8080/"
        },
        "id": "cs174_NWA8Rf",
        "outputId": "9bca6b25-f03f-4012-9d2f-a25f3864b5bc"
      },
      "outputs": [
        {
          "name": "stdout",
          "output_type": "stream",
          "text": [
            "False True False\n",
            "True False True\n"
          ]
        }
      ],
      "source": [
        "print(True and False, True or False, not True or False)\n",
        "print(True and True, False or False, not False or False)"
      ]
    },
    {
      "cell_type": "markdown",
      "metadata": {
        "id": "f34ceVVxA8Rg"
      },
      "source": [
        "#### 멤버\n",
        "    in, not in\n",
        "    특정 데이터가 있는지 확인할 때 사용"
      ]
    },
    {
      "cell_type": "code",
      "execution_count": 5,
      "metadata": {
        "colab": {
          "base_uri": "https://localhost:8080/"
        },
        "id": "WK8Vi2tp8HvN",
        "outputId": "9e2168f6-a786-43e0-e525-59fd8b4919f6"
      },
      "outputs": [
        {
          "output_type": "execute_result",
          "data": {
            "text/plain": [
              "(True, False, False)"
            ]
          },
          "metadata": {},
          "execution_count": 5
        }
      ],
      "source": [
        "a = ['python', 'AI', 'class', 'deep learning']\n",
        "\n",
        "'python' in a, 'CNN' in a, 'ai' in a"
      ]
    },
    {
      "cell_type": "code",
      "execution_count": null,
      "metadata": {
        "id": "z-5rdWoW8lBx"
      },
      "outputs": [],
      "source": []
    }
  ],
  "metadata": {
    "colab": {
      "collapsed_sections": [],
      "provenance": [],
      "include_colab_link": true
    },
    "hide_input": false,
    "kernelspec": {
      "display_name": "Python 3 (ipykernel)",
      "language": "python",
      "name": "python3"
    },
    "language_info": {
      "codemirror_mode": {
        "name": "ipython",
        "version": 3
      },
      "file_extension": ".py",
      "mimetype": "text/x-python",
      "name": "python",
      "nbconvert_exporter": "python",
      "pygments_lexer": "ipython3",
      "version": "3.8.5"
    },
    "toc": {
      "base_numbering": 1,
      "nav_menu": {},
      "number_sections": true,
      "sideBar": true,
      "skip_h1_title": false,
      "title_cell": "Table of Contents",
      "title_sidebar": "Contents",
      "toc_cell": false,
      "toc_position": {},
      "toc_section_display": true,
      "toc_window_display": false
    },
    "varInspector": {
      "cols": {
        "lenName": 16,
        "lenType": 16,
        "lenVar": 40
      },
      "kernels_config": {
        "python": {
          "delete_cmd_postfix": "",
          "delete_cmd_prefix": "del ",
          "library": "var_list.py",
          "varRefreshCmd": "print(var_dic_list())"
        },
        "r": {
          "delete_cmd_postfix": ") ",
          "delete_cmd_prefix": "rm(",
          "library": "var_list.r",
          "varRefreshCmd": "cat(var_dic_list()) "
        }
      },
      "types_to_exclude": [
        "module",
        "function",
        "builtin_function_or_method",
        "instance",
        "_Feature"
      ],
      "window_display": false
    }
  },
  "nbformat": 4,
  "nbformat_minor": 0
}