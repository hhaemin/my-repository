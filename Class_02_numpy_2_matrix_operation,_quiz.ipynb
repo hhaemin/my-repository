{
  "cells": [
    {
      "cell_type": "markdown",
      "metadata": {
        "id": "view-in-github",
        "colab_type": "text"
      },
      "source": [
        "<a href=\"https://colab.research.google.com/github/hhaemin/my-repository/blob/main/Class_02_numpy_2_matrix_operation%2C_quiz.ipynb\" target=\"_parent\"><img src=\"https://colab.research.google.com/assets/colab-badge.svg\" alt=\"Open In Colab\"/></a>"
      ]
    },
    {
      "cell_type": "markdown",
      "metadata": {
        "id": "ke5Tq5R0Gati"
      },
      "source": [
        "### numpy로 작성하는 행렬"
      ]
    },
    {
      "cell_type": "markdown",
      "metadata": {
        "id": "aotpPX1uGatm"
      },
      "source": [
        "#### 행렬의 사칙연산\n",
        "\n",
        "$$\n",
        "    \\begin{pmatrix}\n",
        "    1 & 2 & 3 \\\\\n",
        "    4 & 5 & 6 \\\\\n",
        "    \\end{pmatrix}\n",
        "    +\n",
        "    \\begin{pmatrix}\n",
        "    4 & 5 & 6 \\\\\n",
        "    1 & 2 & 3 \\\\\n",
        "    \\end{pmatrix}\n",
        "$$\n",
        "   "
      ]
    },
    {
      "cell_type": "markdown",
      "metadata": {
        "id": "nKlElOepGatm"
      },
      "source": [
        "#### 기본적인 list 연산도 구현 가능?"
      ]
    },
    {
      "cell_type": "code",
      "execution_count": null,
      "metadata": {
        "ExecuteTime": {
          "end_time": "2021-02-02T02:13:40.650498Z",
          "start_time": "2021-02-02T02:13:40.634546Z"
        },
        "colab": {
          "base_uri": "https://localhost:8080/"
        },
        "id": "EP891QvKGatn",
        "outputId": "d4c8801a-b1cd-49fb-c91f-261da31c0c37"
      },
      "outputs": [
        {
          "output_type": "execute_result",
          "data": {
            "text/plain": [
              "[[1, 2, 3], [4, 5, 6], [4, 5, 6], [1, 2, 3]]"
            ]
          },
          "metadata": {},
          "execution_count": 1
        }
      ],
      "source": [
        "A = [[1, 2, 3], [4, 5, 6]]\n",
        "B = [[4, 5, 6], [1, 2, 3]]\n",
        "A + B #?"
      ]
    },
    {
      "cell_type": "markdown",
      "metadata": {
        "id": "p9zM0VgRGato"
      },
      "source": [
        "#####  list에서 요소들의 합 구현은 이중 for 문을 사용해야 한다."
      ]
    },
    {
      "cell_type": "code",
      "execution_count": null,
      "metadata": {
        "ExecuteTime": {
          "end_time": "2021-02-02T02:17:11.251302Z",
          "start_time": "2021-02-02T02:17:11.235330Z"
        },
        "colab": {
          "base_uri": "https://localhost:8080/"
        },
        "id": "wq2wU7ZcGatp",
        "outputId": "a5de8acf-8620-4793-fa86-174bc6db5214"
      },
      "outputs": [
        {
          "output_type": "execute_result",
          "data": {
            "text/plain": [
              "[[5, 7, 9], [5, 7, 9]]"
            ]
          },
          "metadata": {},
          "execution_count": 2
        }
      ],
      "source": [
        "res = [[c+d for c, d in zip(a, b)] for a, b in zip(A, B)]\n",
        "res"
      ]
    },
    {
      "cell_type": "markdown",
      "metadata": {
        "id": "aJgC2kmTGatp"
      },
      "source": [
        "##### numpy array라면 어떨까?"
      ]
    },
    {
      "cell_type": "code",
      "execution_count": null,
      "metadata": {
        "ExecuteTime": {
          "end_time": "2021-02-02T02:18:04.679736Z",
          "start_time": "2021-02-02T02:18:04.670760Z"
        },
        "colab": {
          "base_uri": "https://localhost:8080/"
        },
        "id": "gjR6eDM0Gatq",
        "outputId": "1270a6f9-128e-4af4-b583-35dec9d80821"
      },
      "outputs": [
        {
          "output_type": "execute_result",
          "data": {
            "text/plain": [
              "array([[5, 7, 9],\n",
              "       [5, 7, 9]])"
            ]
          },
          "metadata": {},
          "execution_count": 3
        }
      ],
      "source": [
        "import numpy as np\n",
        "a = np.array(A)\n",
        "b = np.array(B)\n",
        "a+b"
      ]
    },
    {
      "cell_type": "code",
      "source": [
        "np.multiply(A,b)"
      ],
      "metadata": {
        "colab": {
          "base_uri": "https://localhost:8080/"
        },
        "id": "ApyuzgP4U5C_",
        "outputId": "068ff9cf-bf28-4172-c956-7b715fcd81d2"
      },
      "execution_count": null,
      "outputs": [
        {
          "output_type": "execute_result",
          "data": {
            "text/plain": [
              "array([[ 4, 10, 18],\n",
              "       [ 4, 10, 18]])"
            ]
          },
          "metadata": {},
          "execution_count": 4
        }
      ]
    },
    {
      "cell_type": "markdown",
      "metadata": {
        "id": "01MRMHULGatq"
      },
      "source": [
        "### 행렬의 곱\n",
        "\n",
        "$$\n",
        "    \\begin{pmatrix}\n",
        "    1 & 2 & 3 \\\\\n",
        "    4 & 5 & 6 \\\\\n",
        "    \\end{pmatrix}\n",
        "    \\rm{x}\n",
        "    \\begin{pmatrix}\n",
        "    6 & 5 \\\\\n",
        "    4 & 3 \\\\\n",
        "    2 & 1 \\\\\n",
        "    \\end{pmatrix}\n",
        "$$"
      ]
    },
    {
      "cell_type": "markdown",
      "metadata": {
        "id": "DSir8RhFGatt"
      },
      "source": [
        "#### numpy 곱"
      ]
    },
    {
      "cell_type": "code",
      "execution_count": null,
      "metadata": {
        "ExecuteTime": {
          "end_time": "2021-02-02T02:28:17.205716Z",
          "start_time": "2021-02-02T02:28:17.198762Z"
        },
        "colab": {
          "base_uri": "https://localhost:8080/"
        },
        "id": "n147xyu4Gatt",
        "outputId": "4a2c8a42-383e-4f81-cf24-0c92d0f6bb4f"
      },
      "outputs": [
        {
          "output_type": "execute_result",
          "data": {
            "text/plain": [
              "(array([[22, 16],\n",
              "        [58, 43]]), array([[22, 16],\n",
              "        [58, 43]]))"
            ]
          },
          "metadata": {},
          "execution_count": 5
        }
      ],
      "source": [
        "a = np.array(A)\n",
        "b = np.array(B).reshape(3,2)\n",
        "np.dot(a,b) , a @ b"
      ]
    },
    {
      "cell_type": "code",
      "execution_count": null,
      "metadata": {
        "ExecuteTime": {
          "end_time": "2021-02-02T06:15:22.677293Z",
          "start_time": "2021-02-02T06:15:22.671310Z"
        },
        "id": "ll3ZUq34Gatu",
        "colab": {
          "base_uri": "https://localhost:8080/"
        },
        "outputId": "87475cc5-bee4-4010-c947-5f36db77d71e"
      },
      "outputs": [
        {
          "output_type": "execute_result",
          "data": {
            "text/plain": [
              "(array([[ 2, 10, 15],\n",
              "        [ 1,  2,  3]]), array([1]), array([1, 2, 3]))"
            ]
          },
          "metadata": {},
          "execution_count": 6
        }
      ],
      "source": [
        "arr = np.array([[2,10,15],[1,2,3]])\n",
        " \n",
        "arr1 = np.array([1])\n",
        " \n",
        "arr2 = np.array([1,2,3])\n",
        "\n",
        "arr, arr1, arr2"
      ]
    },
    {
      "cell_type": "code",
      "source": [
        "arr.shape, arr1.shape, arr2.shape"
      ],
      "metadata": {
        "colab": {
          "base_uri": "https://localhost:8080/"
        },
        "id": "EkHEdy5tI_ZW",
        "outputId": "35f384cd-4f20-4fe6-e25a-ac21d8c6a760"
      },
      "execution_count": null,
      "outputs": [
        {
          "output_type": "execute_result",
          "data": {
            "text/plain": [
              "((2, 3), (1,), (3,))"
            ]
          },
          "metadata": {},
          "execution_count": 7
        }
      ]
    },
    {
      "cell_type": "code",
      "execution_count": null,
      "metadata": {
        "ExecuteTime": {
          "end_time": "2021-02-02T06:16:08.473097Z",
          "start_time": "2021-02-02T06:16:08.464149Z"
        },
        "colab": {
          "base_uri": "https://localhost:8080/"
        },
        "id": "3V7iLlplGatu",
        "outputId": "835da33d-b673-4858-db7f-994d1400813b"
      },
      "outputs": [
        {
          "output_type": "execute_result",
          "data": {
            "text/plain": [
              "(array([[ 3, 11, 16],\n",
              "        [ 2,  3,  4]]), array([[ 2, 10, 15],\n",
              "        [ 1,  2,  3]]))"
            ]
          },
          "metadata": {},
          "execution_count": 8
        }
      ],
      "source": [
        "arr + arr1, arr * arr1"
      ]
    },
    {
      "cell_type": "code",
      "execution_count": null,
      "metadata": {
        "ExecuteTime": {
          "end_time": "2021-02-02T06:16:10.770099Z",
          "start_time": "2021-02-02T06:16:10.760126Z"
        },
        "colab": {
          "base_uri": "https://localhost:8080/"
        },
        "id": "SC_uUSMwGatu",
        "outputId": "a30a9d13-e698-41e5-d9a4-4d83197fe391"
      },
      "outputs": [
        {
          "output_type": "execute_result",
          "data": {
            "text/plain": [
              "(array([[ 3, 12, 18],\n",
              "        [ 2,  4,  6]]), array([[ 2, 20, 45],\n",
              "        [ 1,  4,  9]]))"
            ]
          },
          "metadata": {},
          "execution_count": 9
        }
      ],
      "source": [
        "arr + arr2, arr * arr2"
      ]
    },
    {
      "cell_type": "code",
      "source": [
        "a = np.array([[ 0,  0,  0],\n",
        "              [10, 10, 10],\n",
        "              [20, 20, 20],\n",
        "              [30, 30, 30]])\n",
        "b = np.array([1, 2, 3])\n",
        "a*b\n"
      ],
      "metadata": {
        "colab": {
          "base_uri": "https://localhost:8080/"
        },
        "id": "wxGAD9mcHKIG",
        "outputId": "a4445a7a-8a72-4b87-d366-7a4f085d4273"
      },
      "execution_count": null,
      "outputs": [
        {
          "output_type": "execute_result",
          "data": {
            "text/plain": [
              "array([[ 0,  0,  0],\n",
              "       [10, 20, 30],\n",
              "       [20, 40, 60],\n",
              "       [30, 60, 90]])"
            ]
          },
          "metadata": {},
          "execution_count": 10
        }
      ]
    },
    {
      "cell_type": "markdown",
      "source": [
        "#### 행렬 데이터의 결합\n",
        "    concatenate"
      ],
      "metadata": {
        "id": "wtVebscwHb88"
      }
    },
    {
      "cell_type": "markdown",
      "source": [
        "#### 배열을 위 아래로 붙이기 (axis=0)\n",
        "![con0png.png](data:image/png;base64,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)"
      ],
      "metadata": {
        "id": "fGdNCbaVXTq1"
      }
    },
    {
      "cell_type": "code",
      "source": [
        "r1 = np.array([[1, 9, 8], [7, 0, 2]])\n",
        "r2 = np.array([[1, 8], [2, 2], [0, 2]])\n",
        "r3 = np.array([[7, 6, 0], [3, 5, 4], [6, 7, 9]])"
      ],
      "metadata": {
        "id": "dhbVCi0KHPCD"
      },
      "execution_count": null,
      "outputs": []
    },
    {
      "cell_type": "code",
      "execution_count": null,
      "metadata": {
        "ExecuteTime": {
          "end_time": "2021-02-02T06:16:45.873753Z",
          "start_time": "2021-02-02T06:16:45.861756Z"
        },
        "colab": {
          "base_uri": "https://localhost:8080/"
        },
        "id": "QU49zPSSGatv",
        "outputId": "9edc3d33-2f6f-4f27-c044-8ec8e5a48fae"
      },
      "outputs": [
        {
          "output_type": "execute_result",
          "data": {
            "text/plain": [
              "array([[1, 9, 8],\n",
              "       [7, 0, 2],\n",
              "       [7, 6, 0],\n",
              "       [3, 5, 4],\n",
              "       [6, 7, 9]])"
            ]
          },
          "metadata": {},
          "execution_count": 12
        }
      ],
      "source": [
        "np.concatenate((r1, r3), axis=0)\n",
        "np.vstack([r1,r3])\n",
        "np.r_[r1,r3]"
      ]
    },
    {
      "cell_type": "markdown",
      "source": [
        "#### 배열을 옆으로 붙이기 (axis=1)\n",
        "![con1.png](data:image/png;base64,iVBORw0KGgoAAAANSUhEUgAAAukAAACxCAIAAAD25LTvAAAAAXNSR0IArs4c6QAAAARnQU1BAACxjwv8YQUAAAAJcEhZcwAAFiUAABYlAUlSJPAAABajSURBVHhe7d3vixTXnsfxm4e7D3ZJ/oURcp/dJwb2P0j+gYvCLtwsK8I4IKIYk8mAEcw6o4GIwTiJMowRHHGiCcYJAfFJ8mA23EA0XAc1GY0/kkFs4oQhJsOisx/7HM/WVE9X16muqj6nfb8ohunqqjrdM32+/ak61dV/WgEAAIgH2QUAAMSE7AIAAGJCdgEAADEhuwAAgJiQXQAAQEzILgAAICZkFwAAEBOyCwAAiAnZBQAAxITsAgAAYkJ2AQAAMSG7AACAmJBdAABATMguAAAgJmQXAAAQE7ILAACICdkFAADEhOwCAABiQnYBAAAxIbsAAICYkF0AAEBMyC4AACAmZBcAABATsgsAAIgJ2QUAAMSE7AIAAGJCdgEAADEhuwAAgJiQXQAAQEzILgAAICZkFwAAEBOyCwAAiAnZBQAAxITsAgAAYkJ2AQAAMSG7AACAmJBdAABATMguAAAgJmQXAAAQE7ILAACICdkFAADEhOwCAABiQnYBAAAxIbsAAICYkF0AAEBMyC4AACAmZBcAABATsgsAAIgJ2QUAAMSE7AIAAGISa3ZZWFj47LPPJiYmDhw4MDIysnXr1qGhoeHhYd08duzYuXPnbt68aRcFgLItLS3Nzs4eP3780KFDe/fu3blz56ZNm/RTv2vOiRMndK+WsUsDKFVk2eXu3bunTp1SRlGZ6Eh1RJVlfn7ergwA3fntt9+++OKLsbGxzZs320KTSUtqL2txcdGuD6AM0WSXmzdvKrVs27bNloTcBgcHJycnr169ajcEAP4ajcbMzMzu3bttZfExMjJy/vz5+/fv220B6E4E2eXRo0eff/751q1bbRkoRAlmenpam7IbBYDcvv76azMq1A1tQduxWwTQhdCzy08//TQ5OWm7ftfGx8c5DwZAfouLi9rtyTlC1JG28/HHHzOEBHQp6OwyNzd38OBB2+lLsn///suXL9sGAKA97eocPXrU1o7yaJs//vijbQOAv3Czy8LCQoGzW/IYGhq6ffu2bQYA1rK4uJjzYwEFjIyMPHjwwLYEwFOg2eXOnTvvvvuu7eUV2L9//40bN2xjALDa/fv3x8fHbb2ohrbP2btAMSFml19//fXYsWO2f1fmyJEjFA4ArR4+fHjixAlbKaqkVn7//XfbKoDcQswu586dsz27YqdOnbJNAsBTFy5csDWiemrLtgogt+Cyy40bN6obY07Zvn37lStXbMMAsLJy+/btYhdxKUZtcfod4Cu47DI1NWX7dG4XL1406166dMnOym1iYsKsCwBy+vRpWx06sSus9ssvv6gQ7dq1yy6Ug1q0KwPIJ6zssrCwUOA6Cnfu3DGrq2rYWT645C4Aw6sEmVVUdu49pd/NzOXl5fzxRS1qXbMigDzCyi5nzpyxvTk3FQituLS0ZKrGBx98YO/IbXJystk4gGedVwkyq1y8eNHebhobGzO1SHHEzsrh7NmzZmsA8ggru6jb266cmxkwmp+fn5ub0y8Fho1GRkb4ulcA4lWCzCqp7CJTU1PmrvyHXkZHR80qAPIIKLtcu3bN9mMf5jS3z5r0S7FhIyWe5kMA8OzyLUFmrdbsIo8fP9ZdXklIrZsNAugooOyi8GE7cW7arVGNWF5eNjXCbKfAsNH09LRZF8Azy7cEmbVas4upS0tLS17Zxex9AcgjoOwyMTFhO3FuZsDIjSubk3YLDBsdPny4+RAAPLt8S5BZqzW7zM7Oar7X+S7CZx6B/ALKLgW+BMAMGLmwYkpGgWGjffv2NR8CgGeXbwkyayWzy9jYmBmAXl5e9r3cw8GDB80GAXQUUHZ56623bCfOxxyY1YpukEiFw2zKd9jo9ddfNysCeGb5liC7WgsFlwIj4Hv27LHrA+gkoOyyfft224nzMQNGS0tLyZP5zacTfYeNXt205V9f/f2f/rbCxBTOhJr5liCzlmrOvQQzU2ZnZ+1y+fz7f21PvQCYmHo+NY8PhCig7LJjxw7bifMxA0Zzc3P2dpP5pLTvsJGyy7/87WHqf8bE1NsJNfMtQWat1vNdNGd5eVl3ecWX/9i0I/UCYGLq+UR26WzPnj22E+fgBoza8Ro2YswIQTFVAzXzKkFi1mrNLuKOCtvbOTBmhKD886tkl3y8TpQzpUE7N/ZAbYLZ4/EaNuJcXQSF7NIT3Z+rm+R7iRe1bjYIhIDskpfXBxTXHDAyCgwb8RlpBIXs0hNlfUba8M0ufEYaQSG75JX/zHw3YLTmKu6C3PmHjbg2HYISdXb56z9KmHqirGvTSYExI65Nh6CQXfLKf0FuVxfa7dP4DhuZSzIAgYg6u7z095U//09Xk7bQE2V9J4DmFDhXl+8EQFDILnk9fvx4dHTU9uNM5vq5+mlvt5ifn9cCOYeN+C5GhIbs0hP5S5Bh1lL1sKfaNZnUIqpCycs3ZFO75lgyEAiyi4c8X0CvcmAWzjjA646+5hk2mpycNAsDgXjWssuLs6tu9iq7SJ4S5Nh1VtMuk1LLmgNJGc6ePWvXB8JAdvGwsLCwefNm25vrcvXqVds8EAayS6/0pASpxXuJi9oBISC7+PH9EpAucW4/AtQn2UWJZHZldnHlu6UOk5ZxwUVTD7OLnD592laHuqhF2zYQDLKLnxs3bgwPD9s+XbHt27dfuXLFNgwEo0+yS3P69X/t/AxaJrlKb7PL7du3d+/ebWtE9dSWueIDEBSyi7dz587Zbl2xU6dO2SaBkJBdeuvChQu2RlRPbdlWgZCQXbwtLi4ePXrU9uzKvP/++41GwzYJhITs0lsPHz786KOPbKWoklpRW7ZVICRklyJu3br1zjvv2P5dgX379v3www+2MSAwZJeeu3fv3uHDh229qIa2zym6CBbZpaC7d+8ODQ3ZXl4qbdZcAAYIE9klBIuLi77fLJ2ftvzgwQPbEhAesktxly9fPnDggO3rJXn77be/+eYb2wAQJLJLIK5fv17F0Rdt8/vvv7dtAEEiu3Tl1q1bJZ778t5773HhbYSP7BKO+/fvnzx50laQMmhr2qbdOhAqsku3Hj16ND09PTg4aLt+IZs3bz5+/Pgff/xhNwoEjOwSmi+//HLbtm22mhS1detWbcduEQgb2aUc165dU/jYsmWLLQM+Pvzww++++85uCAge2SVAP//88yeffPLGG2/YsuLjtddeO3v27N27d+22gOCRXcp0/fr1iYmJnDtAQ0NDSi2XL1+2KwORILsEa3Fx8cyZM/kvXjcyMjI9Pc0gEaJDdqmEQsynn3566NChvXv37ty505SJHTt27Nmz5+DBgyoWc3Nzjx49sksH77nnnvtTi6+++srejU7sn2y1eI/Pk13Cpzhy8eJF7R0dOHBg165dZlD7PzcN6nfN0XzdG1FkGRsbs90m4eWXX+bbrXNq9we0d0eI7FKHqGu9+GaXRqOhrvL888+bJSutL3oYqsvr1683bemXDRs2TE1N2burMTMzk2x0YGDANNrucoJmsRSyS088I9mlVdT/tW6yi3qrq2Clv1uv+cBaVRezLl26NDw8rO2bhlSUVJr0lO3dT5FdakZ2CYLp+Xr129ttqBeNj4/rXdx0DKeiTjs/P+96bCvlCT0eu2h5FJXWrVtn22ihuHb+/Hm7aBvagvl7kl16guwSI/fWa2/npt2JZIct/d06owQlabHSy6CeWkbruiujAJoV9dPejhDZpQ5RVw3Jk130ltzsMmuoIrtox8Id1xH9rn5oOqSjmeXGF+3f2E03uUaTj0ROnjxpV1gL2aUUkz8XnP7y9aog4pVdXpx9MmkLqW3mn3oo6ipUOLukjjeot9o7SqIN2k1n0mLllkFVtlTZeVKJVteijAKoJbWAftrbESK71CHqqiGhZZepqSm76eYxUjVt72gaHx+39zXvtXO7lnyC6vOpRvWQXNXQLxlf6UB2KcW/ffP/+aObqcBxl8KTHnMPK23UVahYdtE7t+lrrm+W/m5tQoB0POBaokajkaw2qnjJ0Wrt1w0MDOguVb92o9hkl6qRXYKQJ7ukJHd3qssug4ODdtZqyXDTOvRbmGqE/hRHjhyxt1dLhpvh4WE7twXZpRRkF19RV6Fi2cUFi9HRUfNLddmlzu6sumcaVXBZ88iKIsuGDRvaBRchu1SN7BKE0LKLKJ20Cy6GqynZi/lKHW5JcWfvZhzvIbuUguziK+oqVCC7uB0YlQLtwLjf7d0lMZuV2rqzwoptsosPe5JdqkZ2CUKA2aUjN3JUZ/9MPms7qwXZpRRkF19RVyHf7JIcVVFHc6tXl11q++b/LVu2mBa7eS5kl6qRXYIQY3ZRRLDNex5n7gbZpTap7LL7xsp//1hkypldUmvlnPSokg+S7FKYb3Zxp9UPDg6q/tSQXWqrci+88IJpsZvRcLJL1cguQSC75OTGoRkzqloqu/ySI4LU78HqAzZkl8K8sovr+88/PWu+b7KLqx56anZWIWSXqpFdghB1dhkYGLCzKpY8TD06OmrntiC7lILs4ivqKuSVXdxpZ65kVZRdkiGpnipX1hMhu1SN7BKEGLOLewAbNmywsyqWPPk/42rrZJdSkF18RV2FXHe2t9tzJ7old1rKestPcdlFm1WVu3Tp0tTUlNqSmZmZ+fl5u1x5Nm7caFpUE3ZWIWSXqpFdghBjdnH7XqpldlZlVMJMLTC4Nl0NyC6+oq5Crp7Y220oLrhjn+podm712UU5yRWcJDWXfBjde+WVV8yWFZLMHG1fu2fmWeunWkxd7mVNpl6V+9eoGdmlDlFXDYkuuyQ/RljF3o/oCYqqhrkMlKHawXcC1IPs4ivqKuTqib3dhvtCktSVEdzq5b5bu49eZytx98l9v4HKSMaXoqgQZWcmskvVyC5BiC67uOGb6gaMzPaT1FbH3R0hu5SC7OIr6iqUJ7uoZ5ll9M6d6okVZRe1aA54aAfm5MmTbjdJ+05q0dxlZB+Lzc+UDlEecttX5VFzkooya162ziC7VI3sEoS4sosrYZK989EN28BqpoTZJdogu5SC7OIr6irk6om9vRZ3BNSNpzhu9dLfrRWSWpszFB1cvNAvGefA5eeyi9G6v6RG3Yeo9Qexc1uQXapGdglCXNnFDTxXd9DF0Z6WsoiebHLkSBWBc3WrRnbxFXUV6phdstNJ9r3Vcdf2lXbfJeIlmV0yMpNdov0yZJeqkV2CEFF2efPNN02j2tGp6EyXdtwHHCQjNpFdSkF28RV1FcrOLurp5l5Zc6CkV9lF3F6NakL3ldBll4xvTBO1ZRZLnffjkF2qRnYJQizZRTsZrm+32+Go1MzMjHsA7YaryC6lILv4iroKZWcX9+mbdjWqh9nFnXunENN9JXTPtF15Mdx+VLvnS3apGtklCFFkl+RAbw2jRe289NJL2Y+B7FIKsouvqKtQRnZRx3c7DF6y3/7LUm4ldNkl+7NLempmsefbXH6X7FI1sksQws8ujUbDBZf169fn+bxPRdwTb1c1yC6lILv4iroKZWQX16F8xZhd3Nayx4xcdhE7azWyS9XILkEIPLsoqbjzc+s/zSUl+cTtrNXILqVIZRe+i7GjqKuQ61b2doL6u+7NZt6qZWBgwM4aG6unULgxI9Wo7iuhG5XW1uystbjswnGXXiG7BCHk7JIKLt9++629o0fcN9S3+4Ai2aUUqexSeMqZXVJrFZvILoW5emJve3Kr1/9u7c7VVYgppRK6A8wZ2cs933Yj12SXqpFdghBsdkkGF6k0Dait4eHh7OeiZTqec0N2KQXZxVfUVSjA7KLo0PEDAVrAtCsdr7idk9s7avcZInFVsd1pMWSXqpFdglB1dpmZmdE7vXgdNUkFF98rV6pXq+uq/2s7dlYm05YeZMa1W9zxYdGTsnNXI7uUguziK+oqVEN2KVYQMqripcS16bTl1jKoBdSc7mpXK9akzGS2KWt+IFxbM/eq9XbPRY1qgYy/RvjILnWIumpIpdnF9TTJf7aKFksGF99PRA8PD9s1O40cG278WPQg9exSj1MLmHJgZBQFskspyC6+oq5Crp7Y257c6u06prsulOQpCMmqNdC8mnYyJeh3teiCi35p3StTAXELiNdRGfd0tIVU7tFNd+hXi9m5LcguVSO7BKFjdlF0UDdIcqO8Ymc9lcoZrh8aGa04yR0a0e9my8lGU5QY7MpNWtje0ZS6d00qCslGRc2ZdlPzVfu4rm7VJn8uOP3l65UXZ59MJk8UyC7aQmqb+aceiroKuSphb3tyq6u32lmruc8eG3kKgupYa8c3BcHebtIya+5ZqQm7RJPW8hpbTx7iVbvaGdNz1C92VqfrRJgHqZ/2doTILnWIumpIx+ziSkMeqe24yygZebpTqjrkkSpG6tj2jqaMp5ak3alkyViTikj2MWeyS2+99PdVQaRAdtEWYhT1f81VGHvbk1u9XXnZuHGjWcDIWRDm23+Ts6Ewseawjmi+Xegpr+wiyYPHKbrLLtSGedh5im2wyC51iLpqSKXZJRUI8nSn7HqxplR2UeFIbiRnqTJUsJS3lH7cXo5+0U3NTA0krYns0ltklxi5CmNve3KrtysvKgjJQy8FCoK27I77qiCopqVqTiu1kjxy45tdRE0rprhSpnZ1M08VMqu0+2tEgexSh6irhnTMLqUwtSP7UGfpnvT4ThepLBfZpbfILjHqMrvkZ1qpsyCYp6YQUyC7FEZ2qRrZJQg1ZJdGo2FaqbNquBPu2h3XrQLZpbfILjGqJ7v0pCCYw7faZyO7eCG71CHqqiE1ZBdFFtNKngOeZTFnvQy0uYhcRcguvUV2iVE92aX+guDOevG9xEOXyC5VI7sEoersog5smuh4ilmJlJae1Iz2F2KpCNmlt8guMaohu9RfEBqNhjlFZn0ZXxfghexSNbJLEMx7bUrHM9HyUO91VUkdOOOjxSWan583O1gy2P7alCUybaWQXXqC7BIjVyWS9NZbylt+/QVB3Ees9bOGIap2f0B7d4TILnWIumpIddlFGzFbqy24iOvGtdUp01wK2aUnyC4xqjS71F8QtM9WZ3ARskvNyC79T6lF/creqIV2swYGBmoeKuonUb+eyS5IUUFYt25dWd83lJNykijE2NvwRHapA1UD/STq1zPZBegDZJc6UDXQT6J+PZNdgD5AdqkDVQP9JOrXM9kF6ANklzpQNdBPon49k12APkB2qQNVA/0k6tdzKrvMLq58t9Rh0jJ/nm1OZBcgDGSXOlA10E+ifj2nssuLTxNJ/onsAvQc2aUOVA30k6hfz2QXoA+QXepA1UA/ifr1nMouBSayC9BzZJc6UDXQT6J+PZNdgD5AdqkDVQP9JOrX81//UcIUI6oQ+gnZpQ5UDfQTXs8x4r+GfkJ2qQNVA/2E13OM+K+hn5Bd6kDVQD/h9Rwj/mvoJ2SXOlA10E94PceI/xr6CdmlDlQN9BNezzHiv4Z+QnapA1UD/YTXc4z4r6GfkF3qYKoGE1M/TYhL6t/HxNQHE9mlWqk/NxNTH0yIS+rfx8TUBxPZBQAAoARkFwAAEBOyCwAAiAnZBQAAxITsAgAAYkJ2AQAAMSG7AACAmJBdAABATMguAAAgJmQXAAAQE7ILAACICdkFAADEhOwCAABiQnYBAAAxIbsAAICYkF0AAEBMyC4AACAmZBcAABATsgsAAIgJ2QUAAMSE7AIAAGJCdgEAADEhuwAAgJiQXQAAQEzILgAAICZkFwAAEBOyCwAAiAnZBQAAxITsAgAAYkJ2AQAAMSG7AACAeKys/B/a7q4rqrCH9QAAAABJRU5ErkJggg==)"
      ],
      "metadata": {
        "id": "d4xaBGV4Yrn3"
      }
    },
    {
      "cell_type": "code",
      "execution_count": null,
      "metadata": {
        "ExecuteTime": {
          "end_time": "2021-02-02T06:17:02.178189Z",
          "start_time": "2021-02-02T06:17:02.163237Z"
        },
        "colab": {
          "base_uri": "https://localhost:8080/"
        },
        "id": "VlWcEKfqGatv",
        "outputId": "68abe57d-4663-42b6-9dc2-bd447c2a6c35"
      },
      "outputs": [
        {
          "output_type": "execute_result",
          "data": {
            "text/plain": [
              "array([[1, 8, 7, 6, 0],\n",
              "       [2, 2, 3, 5, 4],\n",
              "       [0, 2, 6, 7, 9]])"
            ]
          },
          "metadata": {},
          "execution_count": 13
        }
      ],
      "source": [
        "np.concatenate((r2, r3), axis=1)\n",
        "np.hstack([r2,r3])\n",
        "np.c_[r2,r3]"
      ]
    },
    {
      "cell_type": "code",
      "execution_count": null,
      "metadata": {
        "ExecuteTime": {
          "end_time": "2021-02-02T06:18:47.460676Z",
          "start_time": "2021-02-02T06:18:47.453693Z"
        },
        "id": "kc8iye50Gatv",
        "outputId": "e1128762-cb8a-443c-a6ff-f12b50ddc46a",
        "colab": {
          "base_uri": "https://localhost:8080/"
        }
      },
      "outputs": [
        {
          "output_type": "execute_result",
          "data": {
            "text/plain": [
              "array([[1, 4],\n",
              "       [2, 5],\n",
              "       [3, 6]])"
            ]
          },
          "metadata": {},
          "execution_count": 14
        }
      ],
      "source": [
        "ls1 = np.array([1, 2, 3])\n",
        "ls2 = np.array([4, 5, 6])\n",
        "np.c_[ls1, ls2]"
      ]
    },
    {
      "cell_type": "markdown",
      "metadata": {
        "id": "sHEHlv5QGatw"
      },
      "source": [
        "### Quiz\n",
        "    위 행렬의 곱을 for문으로 작성하면?"
      ]
    },
    {
      "cell_type": "code",
      "execution_count": null,
      "metadata": {
        "ExecuteTime": {
          "end_time": "2021-02-02T03:29:52.528895Z",
          "start_time": "2021-02-02T03:29:52.513896Z"
        },
        "id": "o8Okn-qPGatw",
        "outputId": "bb6ecb4f-ec69-4009-8649-e9084cf46c65",
        "colab": {
          "base_uri": "https://localhost:8080/"
        }
      },
      "outputs": [
        {
          "output_type": "stream",
          "name": "stdout",
          "text": [
            "2 3\n"
          ]
        }
      ],
      "source": [
        "A = [[1, 2, 3], [4, 5, 6]]\n",
        "B = [[6, 5],[4, 3], [2, 1]]\n",
        "print(len(A), len(B))"
      ]
    },
    {
      "cell_type": "code",
      "execution_count": null,
      "metadata": {
        "ExecuteTime": {
          "end_time": "2021-02-02T03:32:52.050689Z",
          "start_time": "2021-02-02T03:32:52.038717Z"
        },
        "id": "-kxUMJVPGatw",
        "outputId": "95a4ae3a-08ed-4aad-f406-8a1fe24d9f47",
        "colab": {
          "base_uri": "https://localhost:8080/"
        }
      },
      "outputs": [
        {
          "output_type": "execute_result",
          "data": {
            "text/plain": [
              "[[20, 14], [56, 41]]"
            ]
          },
          "metadata": {},
          "execution_count": 16
        }
      ],
      "source": [
        "res = [[0 for i in range(len(B[0]))]for _ in range(len(A))]\n",
        "for i in range(len(A)): # 행\n",
        "    for j in range(len(B[0])): # 행\n",
        "        for k in range(len(A[0])):\n",
        "            res[i][j] += A[i][k] * B[k][j]\n",
        "            \n",
        "res"
      ]
    },
    {
      "cell_type": "code",
      "source": [
        "# 넘파이 행렬곱\n",
        "a = np.array(A)\n",
        "b = np.array(B)\n",
        "np.dot(a,b)"
      ],
      "metadata": {
        "id": "qcc7ctf6ZobT",
        "colab": {
          "base_uri": "https://localhost:8080/"
        },
        "outputId": "95e81edf-963c-4769-d845-3986df315d80"
      },
      "execution_count": null,
      "outputs": [
        {
          "output_type": "execute_result",
          "data": {
            "text/plain": [
              "array([[20, 14],\n",
              "       [56, 41]])"
            ]
          },
          "metadata": {},
          "execution_count": 18
        }
      ]
    },
    {
      "cell_type": "markdown",
      "source": [
        "### n 차원 배열의 슬라이싱\n",
        "  ![image.png](data:image/png;base64,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)"
      ],
      "metadata": {
        "id": "CFhi6zl8rohI"
      }
    },
    {
      "cell_type": "code",
      "source": [
        "a = np.arange(0,9).reshape(3,3)\n",
        "a"
      ],
      "metadata": {
        "id": "lAvShvZsrnro",
        "colab": {
          "base_uri": "https://localhost:8080/"
        },
        "outputId": "5f5b90e9-823d-47b7-c8d3-c3e2b0d3459a"
      },
      "execution_count": null,
      "outputs": [
        {
          "output_type": "execute_result",
          "data": {
            "text/plain": [
              "array([[0, 1, 2],\n",
              "       [3, 4, 5],\n",
              "       [6, 7, 8]])"
            ]
          },
          "metadata": {},
          "execution_count": 20
        }
      ]
    },
    {
      "cell_type": "code",
      "source": [
        "a[0], a[0,:], a[:,0]"
      ],
      "metadata": {
        "colab": {
          "base_uri": "https://localhost:8080/"
        },
        "id": "GKZ1DUu_r1b9",
        "outputId": "690155ea-e75d-456f-a662-3a5708776a41"
      },
      "execution_count": null,
      "outputs": [
        {
          "output_type": "execute_result",
          "data": {
            "text/plain": [
              "(array([0, 1, 2]), array([0, 1, 2]), array([0, 3, 6]))"
            ]
          },
          "metadata": {},
          "execution_count": 21
        }
      ]
    },
    {
      "cell_type": "code",
      "source": [
        "a[2, :], a[:, :2], a[1, :2]"
      ],
      "metadata": {
        "colab": {
          "base_uri": "https://localhost:8080/"
        },
        "id": "M7axcyEor2p7",
        "outputId": "6bd26c05-396b-4ef3-d7f0-562c71e403a7"
      },
      "execution_count": null,
      "outputs": [
        {
          "output_type": "execute_result",
          "data": {
            "text/plain": [
              "(array([6, 7, 8]), array([[0, 1],\n",
              "        [3, 4],\n",
              "        [6, 7]]), array([3, 4]))"
            ]
          },
          "metadata": {},
          "execution_count": 22
        }
      ]
    },
    {
      "cell_type": "code",
      "source": [
        "a[0, 0:2], a[:2, :2]"
      ],
      "metadata": {
        "colab": {
          "base_uri": "https://localhost:8080/"
        },
        "id": "sFenQbVkr48H",
        "outputId": "180dc6a4-1a43-442f-bbf5-77fab23d8bf8"
      },
      "execution_count": null,
      "outputs": [
        {
          "output_type": "execute_result",
          "data": {
            "text/plain": [
              "(array([0, 1]), array([[0, 1],\n",
              "        [3, 4]]))"
            ]
          },
          "metadata": {},
          "execution_count": 23
        }
      ]
    },
    {
      "cell_type": "code",
      "source": [],
      "metadata": {
        "id": "MoEzGFAJr7mk"
      },
      "execution_count": null,
      "outputs": []
    }
  ],
  "metadata": {
    "hide_input": false,
    "kernelspec": {
      "display_name": "Python 3",
      "language": "python",
      "name": "python3"
    },
    "language_info": {
      "codemirror_mode": {
        "name": "ipython",
        "version": 3
      },
      "file_extension": ".py",
      "mimetype": "text/x-python",
      "name": "python",
      "nbconvert_exporter": "python",
      "pygments_lexer": "ipython3",
      "version": "3.8.5"
    },
    "toc": {
      "base_numbering": 1,
      "nav_menu": {},
      "number_sections": true,
      "sideBar": true,
      "skip_h1_title": false,
      "title_cell": "Table of Contents",
      "title_sidebar": "Contents",
      "toc_cell": false,
      "toc_position": {},
      "toc_section_display": true,
      "toc_window_display": false
    },
    "varInspector": {
      "cols": {
        "lenName": 16,
        "lenType": 16,
        "lenVar": 40
      },
      "kernels_config": {
        "python": {
          "delete_cmd_postfix": "",
          "delete_cmd_prefix": "del ",
          "library": "var_list.py",
          "varRefreshCmd": "print(var_dic_list())"
        },
        "r": {
          "delete_cmd_postfix": ") ",
          "delete_cmd_prefix": "rm(",
          "library": "var_list.r",
          "varRefreshCmd": "cat(var_dic_list()) "
        }
      },
      "types_to_exclude": [
        "module",
        "function",
        "builtin_function_or_method",
        "instance",
        "_Feature"
      ],
      "window_display": false
    },
    "colab": {
      "provenance": [],
      "collapsed_sections": [],
      "include_colab_link": true
    }
  },
  "nbformat": 4,
  "nbformat_minor": 0
}