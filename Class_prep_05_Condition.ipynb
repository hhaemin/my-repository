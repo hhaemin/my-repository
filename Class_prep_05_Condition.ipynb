{
  "cells": [
    {
      "cell_type": "markdown",
      "metadata": {
        "id": "view-in-github",
        "colab_type": "text"
      },
      "source": [
        "<a href=\"https://colab.research.google.com/github/hhaemin/my-repository/blob/main/Class_prep_05_Condition.ipynb\" target=\"_parent\"><img src=\"https://colab.research.google.com/assets/colab-badge.svg\" alt=\"Open In Colab\"/></a>"
      ]
    },
    {
      "cell_type": "markdown",
      "metadata": {
        "id": "sRcm1_1CUF4C"
      },
      "source": [
        "### 조건문(condition)\n",
        "    특정 조건에 따라 코드를 실행하고자 할 때 사용\n",
        "    if, else, elif"
      ]
    },
    {
      "cell_type": "markdown",
      "metadata": {
        "id": "Frt2PP-fUF4E"
      },
      "source": [
        "#### if\n",
        "```python\n",
        "if 조건문 :\n",
        "    조건이 성립할 때 실행될 구문\n",
        "```\n",
        "    조건문에 boolean 타입 외의 데이터 타입이 오면 boolean 타입으로 형변환되어 판단\n",
        "    실행될 구문은 들여쓰기(탭 또는 띄어쓰기 4칸)후에 작성한다."
      ]
    },
    {
      "cell_type": "code",
      "execution_count": 1,
      "metadata": {
        "ExecuteTime": {
          "end_time": "2021-01-13T08:19:54.677600Z",
          "start_time": "2021-01-13T08:19:54.668596Z"
        },
        "id": "n-y7mbPEUF4E",
        "outputId": "ed19bc57-6711-41f7-9aa9-f3859cbef764",
        "colab": {
          "base_uri": "https://localhost:8080/"
        }
      },
      "outputs": [
        {
          "output_type": "stream",
          "name": "stdout",
          "text": [
            "It's True\n",
            "done\n",
            "False done\n"
          ]
        }
      ],
      "source": [
        "if True:\n",
        "  print(\"It's True\")\n",
        "\n",
        "print(\"done\")\n",
        "\n",
        "if False:\n",
        "  print(\"It's False\")\n",
        "\n",
        "print(\"False done\")"
      ]
    },
    {
      "cell_type": "code",
      "execution_count": 2,
      "metadata": {
        "ExecuteTime": {
          "end_time": "2021-01-13T08:21:43.498183Z",
          "start_time": "2021-01-13T08:21:43.490183Z"
        },
        "colab": {
          "base_uri": "https://localhost:8080/"
        },
        "id": "5QQXzM2oUF4G",
        "outputId": "dd01ef6e-da53-440c-bf35-a343778472d6"
      },
      "outputs": [
        {
          "output_type": "stream",
          "name": "stdout",
          "text": [
            "num2 done\n"
          ]
        }
      ],
      "source": [
        "num = 0\n",
        "if num:\n",
        "  print(\"done\")\n",
        "\n",
        "num2 = 10\n",
        "if num2:\n",
        "  print(\"num2 done\")"
      ]
    },
    {
      "cell_type": "markdown",
      "metadata": {
        "id": "ZJYT3cX-UF4H"
      },
      "source": [
        "    int : 0을 제외한 나머지 숫자는 모두 True\n",
        "    float : 0.0을 제외한 나머지 숫자는 모두 True\n",
        "    str : \"\"을 제외한 나머지는 모두 True\n",
        "    list, tuple, dict : [], (), {}을 제외한 나머지는 모두 True"
      ]
    },
    {
      "cell_type": "markdown",
      "metadata": {
        "id": "jH3egKTUUF4H"
      },
      "source": [
        "#### if else\n",
        "```python\n",
        "if 조건문:\n",
        "    조건문이 성립할 때 실행되는 구문\n",
        "else:\n",
        "    조건문 외의 경우가 성립할 때 실행되는 구문\n",
        "```"
      ]
    },
    {
      "cell_type": "code",
      "execution_count": 3,
      "metadata": {
        "ExecuteTime": {
          "end_time": "2021-01-13T08:23:48.715603Z",
          "start_time": "2021-01-13T08:23:48.707598Z"
        },
        "colab": {
          "base_uri": "https://localhost:8080/"
        },
        "id": "LF8OrSP8UF4I",
        "outputId": "043c85d3-18e2-46de-bcfd-0a4bb28203d1"
      },
      "outputs": [
        {
          "output_type": "stream",
          "name": "stdout",
          "text": [
            "True\n"
          ]
        }
      ],
      "source": [
        "if False:\n",
        "  print(\"False\")\n",
        "else:\n",
        "  print(\"True\")"
      ]
    },
    {
      "cell_type": "code",
      "execution_count": 4,
      "metadata": {
        "ExecuteTime": {
          "end_time": "2021-01-13T08:24:57.843113Z",
          "start_time": "2021-01-13T08:24:55.481673Z"
        },
        "colab": {
          "base_uri": "https://localhost:8080/"
        },
        "id": "7s_jzifuUF4I",
        "outputId": "3a4b916e-baae-41a4-d436-110bec63dd01"
      },
      "outputs": [
        {
          "output_type": "stream",
          "name": "stdout",
          "text": [
            "숫자를 입력하세요: 23\n",
            "홀수 입니다\n"
          ]
        }
      ],
      "source": [
        "# 홀수 짝수 편집기\n",
        "num = int(input(\"숫자를 입력하세요: \"))\n",
        "\n",
        "if num % 2:\n",
        "  print(\"홀수 입니다\")\n",
        "else:\n",
        "  print(\"짝수 입니다\")"
      ]
    },
    {
      "cell_type": "markdown",
      "metadata": {
        "id": "ZIkuqsnPUF4J"
      },
      "source": [
        "#### if elif else\n",
        "```python\n",
        "if 조건문1:\n",
        "    실행문1\n",
        "elif 조건문2:\n",
        "    실행문2\n",
        "else:\n",
        "    실행문3\n",
        "```\n",
        "    if 조건문부터 순차적으로 확인한 후 True의 경우일 때 해당 조건의 실행문이 실행된다\n",
        "\n",
        "    elif는 여러개 쓸 수 있다"
      ]
    },
    {
      "cell_type": "code",
      "execution_count": 5,
      "metadata": {
        "ExecuteTime": {
          "end_time": "2021-01-13T09:04:04.133895Z",
          "start_time": "2021-01-13T09:03:54.025098Z"
        },
        "colab": {
          "base_uri": "https://localhost:8080/"
        },
        "id": "djqW6IpBUF4K",
        "outputId": "4f94034a-358a-4e21-d448-35fd8aeaf318"
      },
      "outputs": [
        {
          "output_type": "stream",
          "name": "stdout",
          "text": [
            "금액을 입력하세요: 15000\n",
            "치킨 대신 치킨마요\n"
          ]
        }
      ],
      "source": [
        "# 잔고에 따라 저녁메뉴 선택하기\n",
        "wallet = int(input(\"금액을 입력하세요: \"))\n",
        "\n",
        "if wallet >= 20000:\n",
        "    print(\"허니콤보!\")\n",
        "elif wallet >= 10000:\n",
        "    print(\"치킨 대신 치킨마요\")\n",
        "else:\n",
        "    print(\"그림의 치킨\")"
      ]
    },
    {
      "cell_type": "markdown",
      "metadata": {
        "id": "aF3NW26PUF4L"
      },
      "source": [
        "#### 삼항연산자\n",
        "    한줄의 코드로 if, else를 표현할 수 있는 방법\n",
        "```python\n",
        "실행문1 if 조건문1 else 실행문2\n",
        "```"
      ]
    },
    {
      "cell_type": "code",
      "execution_count": 6,
      "metadata": {
        "ExecuteTime": {
          "end_time": "2021-01-14T01:30:17.789854Z",
          "start_time": "2021-01-14T01:30:17.771915Z"
        },
        "colab": {
          "base_uri": "https://localhost:8080/"
        },
        "id": "WzFphuFoUF4M",
        "outputId": "185831b6-2704-41cf-da75-0e5313ad544f"
      },
      "outputs": [
        {
          "output_type": "stream",
          "name": "stdout",
          "text": [
            "not zero\n"
          ]
        }
      ],
      "source": [
        "data = 1\n",
        "if data:\n",
        "  print(\"not zero\")\n",
        "else:\n",
        "  print(\"zero\")"
      ]
    },
    {
      "cell_type": "code",
      "execution_count": 7,
      "metadata": {
        "ExecuteTime": {
          "end_time": "2021-01-14T01:30:42.748362Z",
          "start_time": "2021-01-14T01:30:42.745370Z"
        },
        "colab": {
          "base_uri": "https://localhost:8080/"
        },
        "id": "CPBb6qHcUF4N",
        "outputId": "8cb4968f-7060-4a6e-9d88-5e7f6ec6508b"
      },
      "outputs": [
        {
          "output_type": "stream",
          "name": "stdout",
          "text": [
            "not zero\n"
          ]
        }
      ],
      "source": [
        "data = 1\n",
        "print(\"not zero\") if data else print(\"zero\")"
      ]
    },
    {
      "cell_type": "code",
      "execution_count": null,
      "metadata": {
        "id": "-MpWrM-OXYot"
      },
      "outputs": [],
      "source": []
    }
  ],
  "metadata": {
    "colab": {
      "collapsed_sections": [],
      "provenance": [],
      "include_colab_link": true
    },
    "hide_input": false,
    "kernelspec": {
      "display_name": "Python 3 (ipykernel)",
      "language": "python",
      "name": "python3"
    },
    "language_info": {
      "codemirror_mode": {
        "name": "ipython",
        "version": 3
      },
      "file_extension": ".py",
      "mimetype": "text/x-python",
      "name": "python",
      "nbconvert_exporter": "python",
      "pygments_lexer": "ipython3",
      "version": "3.8.5"
    },
    "toc": {
      "base_numbering": 1,
      "nav_menu": {},
      "number_sections": true,
      "sideBar": true,
      "skip_h1_title": false,
      "title_cell": "Table of Contents",
      "title_sidebar": "Contents",
      "toc_cell": false,
      "toc_position": {},
      "toc_section_display": true,
      "toc_window_display": false
    },
    "varInspector": {
      "cols": {
        "lenName": 16,
        "lenType": 16,
        "lenVar": 40
      },
      "kernels_config": {
        "python": {
          "delete_cmd_postfix": "",
          "delete_cmd_prefix": "del ",
          "library": "var_list.py",
          "varRefreshCmd": "print(var_dic_list())"
        },
        "r": {
          "delete_cmd_postfix": ") ",
          "delete_cmd_prefix": "rm(",
          "library": "var_list.r",
          "varRefreshCmd": "cat(var_dic_list()) "
        }
      },
      "types_to_exclude": [
        "module",
        "function",
        "builtin_function_or_method",
        "instance",
        "_Feature"
      ],
      "window_display": false
    }
  },
  "nbformat": 4,
  "nbformat_minor": 0
}